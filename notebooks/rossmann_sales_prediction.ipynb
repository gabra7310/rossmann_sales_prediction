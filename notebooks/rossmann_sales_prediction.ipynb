{
 "cells": [
  {
   "cell_type": "markdown",
   "id": "95e0015b",
   "metadata": {},
   "source": [
    "# 0.0 Imports"
   ]
  },
  {
   "cell_type": "code",
   "execution_count": 22,
   "id": "3fdbc132",
   "metadata": {
    "ExecuteTime": {
     "end_time": "2023-04-26T02:16:29.340623Z",
     "start_time": "2023-04-26T02:16:28.384397Z"
    }
   },
   "outputs": [],
   "source": [
    "import pandas as pd\n",
    "import numpy  as np\n",
    "\n",
    "import inflection\n",
    "import math\n",
    "import datetime\n",
    "import random\n",
    "\n",
    "import seaborn as sns\n",
    "import xgboost as xgb\n",
    "\n",
    "#from boruta import BorutaPy\n",
    "#from scipy import stats\n",
    "from matplotlib import pyplot as plt\n",
    "from matplotlib.gridspec import GridSpec\n",
    "from IPython.core.display import HTML\n",
    "\n",
    "from sklearn.preprocessing import RobustScaler, MinMaxScaler, LabelEncoder\n",
    "from sklearn.ensemble import RandomForestRegressor\n",
    "from sklearn.metrics import mean_absolute_error, mean_squared_error\n",
    "from sklearn.ensemble import RandomForestRegressor\n",
    "from sklearn.linear_model import LinearRegression, Lasso"
   ]
  },
  {
   "cell_type": "markdown",
   "id": "be1ccd49",
   "metadata": {},
   "source": [
    "## 0.1 Helper functions"
   ]
  },
  {
   "cell_type": "code",
   "execution_count": 23,
   "id": "0228d858",
   "metadata": {
    "ExecuteTime": {
     "end_time": "2023-04-26T02:16:34.981414Z",
     "start_time": "2023-04-26T02:16:34.976818Z"
    }
   },
   "outputs": [],
   "source": [
    "def rename_columns(dataframe):\n",
    "    df = dataframe.copy()\n",
    "    title = lambda x: inflection.titleize(x)\n",
    "    snakecase = lambda x: inflection.underscore(x)\n",
    "    spaces = lambda x: x.replace(\" \", \"\")\n",
    "    cols_old = list(df.columns)\n",
    "    cols_old = list(map(title, cols_old))\n",
    "    cols_old = list(map(spaces, cols_old))\n",
    "    cols_new = list(map(snakecase, cols_old))\n",
    "    df.columns = cols_new\n",
    "    return df"
   ]
  },
  {
   "cell_type": "markdown",
   "id": "86361f26",
   "metadata": {},
   "source": [
    "## 0.2 Loading data"
   ]
  },
  {
   "cell_type": "code",
   "execution_count": 3,
   "id": "b30b9a29",
   "metadata": {
    "ExecuteTime": {
     "end_time": "2023-04-26T02:07:11.823601Z",
     "start_time": "2023-04-26T02:07:11.260970Z"
    }
   },
   "outputs": [],
   "source": [
    "df_raw_1 = pd.read_csv('../data/train.csv', low_memory=False)\n",
    "df_raw_2 = pd.read_csv('../data/store.csv', low_memory=False)"
   ]
  },
  {
   "cell_type": "code",
   "execution_count": 4,
   "id": "ca469a91",
   "metadata": {
    "ExecuteTime": {
     "end_time": "2023-04-26T02:07:12.594314Z",
     "start_time": "2023-04-26T02:07:12.423682Z"
    }
   },
   "outputs": [],
   "source": [
    "# Merging the data, on train we have the sales date on each store for a time, and on store we have information for each store\n",
    "df_raw = pd.merge(df_raw_1, df_raw_2, how='left', on='Store')"
   ]
  },
  {
   "cell_type": "markdown",
   "id": "0f7caf1c",
   "metadata": {},
   "source": [
    "# 1.0 Data description"
   ]
  },
  {
   "cell_type": "code",
   "execution_count": 71,
   "id": "d45310ab",
   "metadata": {
    "ExecuteTime": {
     "end_time": "2023-04-26T03:03:17.202014Z",
     "start_time": "2023-04-26T03:03:17.074958Z"
    }
   },
   "outputs": [],
   "source": [
    "df1 = df_raw.copy()"
   ]
  },
  {
   "cell_type": "markdown",
   "id": "d896a545",
   "metadata": {
    "ExecuteTime": {
     "end_time": "2023-03-27T21:49:43.050218Z",
     "start_time": "2023-03-27T21:49:43.043230Z"
    }
   },
   "source": [
    "## 1.1 Rename columns"
   ]
  },
  {
   "cell_type": "code",
   "execution_count": 72,
   "id": "7c1b477d",
   "metadata": {
    "ExecuteTime": {
     "end_time": "2023-04-26T03:03:17.703601Z",
     "start_time": "2023-04-26T03:03:17.645717Z"
    }
   },
   "outputs": [],
   "source": [
    "#Using the function we created in section 0.1\n",
    "df1 = rename_columns(df1)"
   ]
  },
  {
   "cell_type": "markdown",
   "id": "338dfbfe",
   "metadata": {},
   "source": [
    "## 1.2 Data dimensions"
   ]
  },
  {
   "cell_type": "code",
   "execution_count": 73,
   "id": "f85697d2",
   "metadata": {
    "ExecuteTime": {
     "end_time": "2023-04-26T03:03:18.182534Z",
     "start_time": "2023-04-26T03:03:18.179857Z"
    }
   },
   "outputs": [
    {
     "name": "stdout",
     "output_type": "stream",
     "text": [
      "Number of rows: 1017209\n",
      "Number of cols: 18\n"
     ]
    }
   ],
   "source": [
    "print('Number of rows: {}'.format(df1.shape[0]))\n",
    "print('Number of cols: {}'.format(df1.shape[1]))"
   ]
  },
  {
   "cell_type": "markdown",
   "id": "07f3ebf9",
   "metadata": {},
   "source": [
    "## 1.3 Data types"
   ]
  },
  {
   "cell_type": "code",
   "execution_count": 74,
   "id": "1469028d",
   "metadata": {
    "ExecuteTime": {
     "end_time": "2023-04-26T03:03:18.712959Z",
     "start_time": "2023-04-26T03:03:18.708190Z"
    }
   },
   "outputs": [
    {
     "data": {
      "text/plain": [
       "store                             int64\n",
       "day_of_week                       int64\n",
       "date                             object\n",
       "sales                             int64\n",
       "customers                         int64\n",
       "open                              int64\n",
       "promo                             int64\n",
       "state_holiday                    object\n",
       "school_holiday                    int64\n",
       "store_type                       object\n",
       "assortment                       object\n",
       "competition_distance            float64\n",
       "competition_open_since_month    float64\n",
       "competition_open_since_year     float64\n",
       "promo2                            int64\n",
       "promo2_since_week               float64\n",
       "promo2_since_year               float64\n",
       "promo_interval                   object\n",
       "dtype: object"
      ]
     },
     "execution_count": 74,
     "metadata": {},
     "output_type": "execute_result"
    }
   ],
   "source": [
    "df1.dtypes"
   ]
  },
  {
   "cell_type": "code",
   "execution_count": 75,
   "id": "9036d9e8",
   "metadata": {
    "ExecuteTime": {
     "end_time": "2023-04-26T03:03:19.066269Z",
     "start_time": "2023-04-26T03:03:18.986168Z"
    }
   },
   "outputs": [],
   "source": [
    "#Changing the type to date\n",
    "df1['date'] = pd.to_datetime(df1['date'])"
   ]
  },
  {
   "cell_type": "markdown",
   "id": "48c44c26",
   "metadata": {},
   "source": [
    "## 1.4 Check NA"
   ]
  },
  {
   "cell_type": "code",
   "execution_count": 76,
   "id": "bef2d76a",
   "metadata": {
    "ExecuteTime": {
     "end_time": "2023-04-26T03:03:19.725784Z",
     "start_time": "2023-04-26T03:03:19.602386Z"
    }
   },
   "outputs": [
    {
     "data": {
      "text/plain": [
       "store                                0\n",
       "day_of_week                          0\n",
       "date                                 0\n",
       "sales                                0\n",
       "customers                            0\n",
       "open                                 0\n",
       "promo                                0\n",
       "state_holiday                        0\n",
       "school_holiday                       0\n",
       "store_type                           0\n",
       "assortment                           0\n",
       "competition_distance              2642\n",
       "competition_open_since_month    323348\n",
       "competition_open_since_year     323348\n",
       "promo2                               0\n",
       "promo2_since_week               508031\n",
       "promo2_since_year               508031\n",
       "promo_interval                  508031\n",
       "dtype: int64"
      ]
     },
     "execution_count": 76,
     "metadata": {},
     "output_type": "execute_result"
    }
   ],
   "source": [
    "df1.isna().sum()"
   ]
  },
  {
   "cell_type": "code",
   "execution_count": 81,
   "id": "00e7044b",
   "metadata": {
    "ExecuteTime": {
     "end_time": "2023-04-26T03:05:22.052656Z",
     "start_time": "2023-04-26T03:05:21.926311Z"
    }
   },
   "outputs": [
    {
     "data": {
      "text/plain": [
       "store                           0.000000\n",
       "day_of_week                     0.000000\n",
       "date                            0.000000\n",
       "sales                           0.000000\n",
       "customers                       0.000000\n",
       "open                            0.000000\n",
       "promo                           0.000000\n",
       "state_holiday                   0.000000\n",
       "school_holiday                  0.000000\n",
       "store_type                      0.000000\n",
       "assortment                      0.000000\n",
       "competition_distance            0.000000\n",
       "competition_open_since_month    0.000000\n",
       "competition_open_since_year     0.000000\n",
       "promo2                          0.000000\n",
       "promo2_since_week               0.499436\n",
       "promo2_since_year               0.499436\n",
       "promo_interval                  0.499436\n",
       "dtype: float64"
      ]
     },
     "execution_count": 81,
     "metadata": {},
     "output_type": "execute_result"
    }
   ],
   "source": [
    "df1.isna().mean()"
   ]
  },
  {
   "cell_type": "markdown",
   "id": "5cb2ccb1",
   "metadata": {},
   "source": [
    "## 1.5 Fillout NA "
   ]
  },
  {
   "cell_type": "code",
   "execution_count": 80,
   "id": "0d68e738",
   "metadata": {
    "ExecuteTime": {
     "end_time": "2023-04-26T03:05:12.492254Z",
     "start_time": "2023-04-26T03:04:53.149156Z"
    }
   },
   "outputs": [],
   "source": [
    "# Dealing the columns with NaNs\n",
    "\n",
    "# competition_distance - imputting 200000 distance for nan values\n",
    "df1['competition_distance'] = df1['competition_distance'].apply(lambda x: 200000 if np.isnan(x) else x)\n",
    "\n",
    "# competition_open_since_month - imputting the month of register for competition open\n",
    "df1['competition_open_since_month'] = df1.apply(lambda x: x['date'].month if np.isnan(x['competition_open_since_month']) else x['competition_open_since_month'], axis=1)\n",
    "\n",
    "# competition_open_since_year     \n",
    "df1['competition_open_since_year'] = df1.apply(lambda x: x['date'].year if math.isnan(x['competition_open_since_year']) else x['competition_open_since_year'], axis=1)\n",
    "  \n",
    "\n",
    "# promo2_since_week\n",
    "# promo2_since_year\n",
    "# promo_interval\n",
    "\n"
   ]
  },
  {
   "cell_type": "code",
   "execution_count": null,
   "id": "60ec6901",
   "metadata": {
    "ExecuteTime": {
     "end_time": "2023-04-26T03:04:13.379757Z",
     "start_time": "2023-04-26T03:04:13.379757Z"
    }
   },
   "outputs": [],
   "source": [
    "df1['date'][0].year"
   ]
  },
  {
   "cell_type": "markdown",
   "id": "280717e4",
   "metadata": {},
   "source": [
    "## 1.6 Change Types"
   ]
  },
  {
   "cell_type": "markdown",
   "id": "7487e9d0",
   "metadata": {
    "ExecuteTime": {
     "end_time": "2023-03-27T21:50:41.624696Z",
     "start_time": "2023-03-27T21:50:41.619175Z"
    },
    "heading_collapsed": true
   },
   "source": [
    "## 1.7 Descriptive Statistical"
   ]
  },
  {
   "cell_type": "markdown",
   "id": "04eaff87",
   "metadata": {
    "hidden": true
   },
   "source": [
    "### 1.7.1 Numerical attributes"
   ]
  },
  {
   "cell_type": "markdown",
   "id": "bf190492",
   "metadata": {
    "hidden": true
   },
   "source": [
    "### 1.7.2 Categorical attributes"
   ]
  },
  {
   "cell_type": "markdown",
   "id": "243f49fb",
   "metadata": {
    "heading_collapsed": true
   },
   "source": [
    "# 2.0 Feature engineering"
   ]
  },
  {
   "cell_type": "markdown",
   "id": "c500b664",
   "metadata": {
    "hidden": true
   },
   "source": [
    "## 2.1 Mapa mental de Hipoteses"
   ]
  },
  {
   "cell_type": "markdown",
   "id": "ff3c36eb",
   "metadata": {
    "hidden": true
   },
   "source": [
    "## 2.2 Criação de Hipoteses"
   ]
  },
  {
   "cell_type": "markdown",
   "id": "0eb8cfb8",
   "metadata": {
    "hidden": true
   },
   "source": [
    "## 2.3 Lista final de Hipoteses"
   ]
  },
  {
   "cell_type": "markdown",
   "id": "ab6f6a5e",
   "metadata": {
    "hidden": true
   },
   "source": [
    "## 2.4 Feature engineering"
   ]
  },
  {
   "cell_type": "markdown",
   "id": "4ff4f415",
   "metadata": {
    "heading_collapsed": true
   },
   "source": [
    "# 3.0 Feature filtering"
   ]
  },
  {
   "cell_type": "markdown",
   "id": "c9427127",
   "metadata": {
    "hidden": true
   },
   "source": [
    "## 3.1 Filtragem das linhas"
   ]
  },
  {
   "cell_type": "markdown",
   "id": "b59f4ddd",
   "metadata": {
    "hidden": true
   },
   "source": [
    "## 3.2 Seleção das colunas"
   ]
  },
  {
   "cell_type": "markdown",
   "id": "dbcc5fcb",
   "metadata": {
    "heading_collapsed": true
   },
   "source": [
    "# 4.0 EDA - Análise exploratória dos dados"
   ]
  },
  {
   "cell_type": "markdown",
   "id": "150e6b9b",
   "metadata": {
    "heading_collapsed": true,
    "hidden": true
   },
   "source": [
    "## 4.1 Análise univariada"
   ]
  },
  {
   "cell_type": "markdown",
   "id": "552e9255",
   "metadata": {
    "hidden": true
   },
   "source": [
    "### 4.1.1 Response variable"
   ]
  },
  {
   "cell_type": "markdown",
   "id": "2ed3971d",
   "metadata": {
    "hidden": true
   },
   "source": [
    "### 4.1.2 Numerical variable"
   ]
  },
  {
   "cell_type": "markdown",
   "id": "21a46939",
   "metadata": {
    "hidden": true
   },
   "source": [
    "### 4.1.3 Categorical variable"
   ]
  },
  {
   "cell_type": "markdown",
   "id": "4dad019a",
   "metadata": {
    "heading_collapsed": true,
    "hidden": true
   },
   "source": [
    "## 4.2 Análise bivariada"
   ]
  },
  {
   "cell_type": "markdown",
   "id": "54984896",
   "metadata": {
    "heading_collapsed": true,
    "hidden": true
   },
   "source": [
    "### 4.2.x Hipothesis validation"
   ]
  },
  {
   "cell_type": "code",
   "execution_count": null,
   "id": "a5dce129",
   "metadata": {
    "hidden": true
   },
   "outputs": [],
   "source": []
  },
  {
   "cell_type": "markdown",
   "id": "8a47b60f",
   "metadata": {
    "heading_collapsed": true,
    "hidden": true
   },
   "source": [
    "### 4.2.y Hipothesis resume"
   ]
  },
  {
   "cell_type": "code",
   "execution_count": null,
   "id": "6384e594",
   "metadata": {
    "hidden": true
   },
   "outputs": [],
   "source": []
  },
  {
   "cell_type": "markdown",
   "id": "6d9092fb",
   "metadata": {
    "heading_collapsed": true,
    "hidden": true
   },
   "source": [
    "## 4.3 Análise multivariada"
   ]
  },
  {
   "cell_type": "markdown",
   "id": "87aa4585",
   "metadata": {
    "heading_collapsed": true,
    "hidden": true
   },
   "source": [
    "### 4.3.1 Numerical attributes"
   ]
  },
  {
   "cell_type": "code",
   "execution_count": null,
   "id": "e499ee73",
   "metadata": {
    "hidden": true
   },
   "outputs": [],
   "source": []
  },
  {
   "cell_type": "markdown",
   "id": "f5069ce4",
   "metadata": {
    "heading_collapsed": true,
    "hidden": true
   },
   "source": [
    "### 4.3.2 Categorical attributes"
   ]
  },
  {
   "cell_type": "code",
   "execution_count": null,
   "id": "4ca1b305",
   "metadata": {
    "hidden": true
   },
   "outputs": [],
   "source": []
  },
  {
   "cell_type": "markdown",
   "id": "34dcd39c",
   "metadata": {
    "heading_collapsed": true
   },
   "source": [
    "# 5.0 Data Preparation"
   ]
  },
  {
   "cell_type": "markdown",
   "id": "61a6e56d",
   "metadata": {
    "heading_collapsed": true,
    "hidden": true
   },
   "source": [
    "## 5.1 Normalization"
   ]
  },
  {
   "cell_type": "code",
   "execution_count": null,
   "id": "c5ef150a",
   "metadata": {
    "hidden": true
   },
   "outputs": [],
   "source": []
  },
  {
   "cell_type": "markdown",
   "id": "34e0b48c",
   "metadata": {
    "heading_collapsed": true,
    "hidden": true
   },
   "source": [
    "## 5.2 Rescaling"
   ]
  },
  {
   "cell_type": "code",
   "execution_count": null,
   "id": "bf36487d",
   "metadata": {
    "hidden": true
   },
   "outputs": [],
   "source": []
  },
  {
   "cell_type": "markdown",
   "id": "ef7b1eec",
   "metadata": {
    "heading_collapsed": true,
    "hidden": true
   },
   "source": [
    "## 5.3 Transformation"
   ]
  },
  {
   "cell_type": "code",
   "execution_count": null,
   "id": "80181c6d",
   "metadata": {
    "hidden": true
   },
   "outputs": [],
   "source": []
  },
  {
   "cell_type": "markdown",
   "id": "42350433",
   "metadata": {
    "heading_collapsed": true,
    "hidden": true
   },
   "source": [
    "### 5.3.1 Encoding"
   ]
  },
  {
   "cell_type": "code",
   "execution_count": null,
   "id": "cedf66ef",
   "metadata": {
    "hidden": true
   },
   "outputs": [],
   "source": []
  },
  {
   "cell_type": "markdown",
   "id": "c314508f",
   "metadata": {
    "heading_collapsed": true,
    "hidden": true
   },
   "source": [
    "### 5.3.2 Response variable transformation"
   ]
  },
  {
   "cell_type": "code",
   "execution_count": null,
   "id": "8f321adc",
   "metadata": {
    "hidden": true
   },
   "outputs": [],
   "source": []
  },
  {
   "cell_type": "markdown",
   "id": "559ff481",
   "metadata": {
    "heading_collapsed": true,
    "hidden": true
   },
   "source": [
    "### 5.3.3 Cyclical features encoding"
   ]
  },
  {
   "cell_type": "code",
   "execution_count": null,
   "id": "a8472f1a",
   "metadata": {
    "hidden": true
   },
   "outputs": [],
   "source": []
  },
  {
   "cell_type": "markdown",
   "id": "a182f4f8",
   "metadata": {
    "heading_collapsed": true
   },
   "source": [
    "# 6.0 Feature selection"
   ]
  },
  {
   "cell_type": "code",
   "execution_count": null,
   "id": "c8ef1e51",
   "metadata": {
    "hidden": true
   },
   "outputs": [],
   "source": []
  },
  {
   "cell_type": "markdown",
   "id": "bd47aad1",
   "metadata": {
    "heading_collapsed": true,
    "hidden": true
   },
   "source": [
    "## 6.1 Splitting dataframe"
   ]
  },
  {
   "cell_type": "code",
   "execution_count": null,
   "id": "a1b0579e",
   "metadata": {
    "hidden": true
   },
   "outputs": [],
   "source": []
  },
  {
   "cell_type": "markdown",
   "id": "284c723c",
   "metadata": {
    "heading_collapsed": true,
    "hidden": true
   },
   "source": [
    "## 6.2 Boruta as Feature Selector"
   ]
  },
  {
   "cell_type": "code",
   "execution_count": null,
   "id": "99b50ea7",
   "metadata": {
    "hidden": true
   },
   "outputs": [],
   "source": []
  },
  {
   "cell_type": "markdown",
   "id": "39995d5f",
   "metadata": {
    "heading_collapsed": true,
    "hidden": true
   },
   "source": [
    "## 6.3 Manual feature selection"
   ]
  },
  {
   "cell_type": "code",
   "execution_count": null,
   "id": "9abc1818",
   "metadata": {
    "hidden": true
   },
   "outputs": [],
   "source": []
  },
  {
   "cell_type": "markdown",
   "id": "0ea6b68d",
   "metadata": {
    "heading_collapsed": true
   },
   "source": [
    "# 7.0 Machine Learning Modelling"
   ]
  },
  {
   "cell_type": "code",
   "execution_count": null,
   "id": "c6849e0e",
   "metadata": {
    "hidden": true
   },
   "outputs": [],
   "source": []
  },
  {
   "cell_type": "markdown",
   "id": "e4a1c85e",
   "metadata": {
    "heading_collapsed": true,
    "hidden": true
   },
   "source": [
    "## 7.1 Baseline model"
   ]
  },
  {
   "cell_type": "code",
   "execution_count": null,
   "id": "7614e297",
   "metadata": {
    "hidden": true
   },
   "outputs": [],
   "source": []
  },
  {
   "cell_type": "markdown",
   "id": "8eb013ea",
   "metadata": {
    "heading_collapsed": true,
    "hidden": true
   },
   "source": [
    "## 7.2 Linear regression model"
   ]
  },
  {
   "cell_type": "code",
   "execution_count": null,
   "id": "61f25975",
   "metadata": {
    "hidden": true
   },
   "outputs": [],
   "source": []
  },
  {
   "cell_type": "markdown",
   "id": "dbe49bc7",
   "metadata": {
    "heading_collapsed": true,
    "hidden": true
   },
   "source": [
    "### 7.2.1 Linear regression model - Cross validation"
   ]
  },
  {
   "cell_type": "code",
   "execution_count": null,
   "id": "e3fefec3",
   "metadata": {
    "hidden": true
   },
   "outputs": [],
   "source": []
  },
  {
   "cell_type": "markdown",
   "id": "982cca3f",
   "metadata": {
    "heading_collapsed": true,
    "hidden": true
   },
   "source": [
    "## 7.3 Random Forest "
   ]
  },
  {
   "cell_type": "code",
   "execution_count": null,
   "id": "a9d7a96a",
   "metadata": {
    "hidden": true
   },
   "outputs": [],
   "source": []
  },
  {
   "cell_type": "markdown",
   "id": "6d16ee76",
   "metadata": {
    "heading_collapsed": true,
    "hidden": true
   },
   "source": [
    "### 7.4.1 Random Forest  - Cross validation"
   ]
  },
  {
   "cell_type": "code",
   "execution_count": null,
   "id": "d3565bf3",
   "metadata": {
    "hidden": true
   },
   "outputs": [],
   "source": []
  },
  {
   "cell_type": "markdown",
   "id": "c9d39730",
   "metadata": {
    "heading_collapsed": true,
    "hidden": true
   },
   "source": [
    "## 7.5 XGBoost Regrssor"
   ]
  },
  {
   "cell_type": "code",
   "execution_count": null,
   "id": "ed4f4d66",
   "metadata": {
    "hidden": true
   },
   "outputs": [],
   "source": []
  },
  {
   "cell_type": "markdown",
   "id": "a2c36428",
   "metadata": {
    "heading_collapsed": true,
    "hidden": true
   },
   "source": [
    "### 7.5.1 XGBoost Regressor - Cross Validation"
   ]
  },
  {
   "cell_type": "code",
   "execution_count": null,
   "id": "72be26af",
   "metadata": {
    "hidden": true
   },
   "outputs": [],
   "source": []
  },
  {
   "cell_type": "markdown",
   "id": "86a14494",
   "metadata": {
    "heading_collapsed": true,
    "hidden": true
   },
   "source": [
    "## 7.6 Compare Model's Performance\n"
   ]
  },
  {
   "cell_type": "code",
   "execution_count": null,
   "id": "86399f4c",
   "metadata": {
    "hidden": true
   },
   "outputs": [],
   "source": []
  },
  {
   "cell_type": "markdown",
   "id": "a1273085",
   "metadata": {
    "heading_collapsed": true,
    "hidden": true
   },
   "source": [
    "### 7.6.1 Single performance"
   ]
  },
  {
   "cell_type": "code",
   "execution_count": null,
   "id": "7aa3b684",
   "metadata": {
    "hidden": true
   },
   "outputs": [],
   "source": []
  },
  {
   "cell_type": "markdown",
   "id": "f418349f",
   "metadata": {
    "heading_collapsed": true,
    "hidden": true
   },
   "source": [
    "### 7.6.2 Real performance - Cross validation"
   ]
  },
  {
   "cell_type": "code",
   "execution_count": null,
   "id": "ae609b20",
   "metadata": {
    "hidden": true
   },
   "outputs": [],
   "source": []
  },
  {
   "cell_type": "markdown",
   "id": "c55a4924",
   "metadata": {
    "heading_collapsed": true
   },
   "source": [
    "# 8.0 Hyperparameter Fine Tuning"
   ]
  },
  {
   "cell_type": "code",
   "execution_count": null,
   "id": "aa9a70e0",
   "metadata": {
    "hidden": true
   },
   "outputs": [],
   "source": []
  },
  {
   "cell_type": "markdown",
   "id": "4e2bbe10",
   "metadata": {
    "heading_collapsed": true,
    "hidden": true
   },
   "source": [
    "## 8.1 Random search"
   ]
  },
  {
   "cell_type": "code",
   "execution_count": null,
   "id": "25b838d0",
   "metadata": {
    "hidden": true
   },
   "outputs": [],
   "source": []
  },
  {
   "cell_type": "markdown",
   "id": "1d6c0235",
   "metadata": {
    "hidden": true
   },
   "source": [
    "## 8.2 - Final model"
   ]
  },
  {
   "cell_type": "code",
   "execution_count": null,
   "id": "d310bc40",
   "metadata": {
    "hidden": true
   },
   "outputs": [],
   "source": []
  },
  {
   "cell_type": "markdown",
   "id": "fbf0193b",
   "metadata": {
    "hidden": true
   },
   "source": []
  },
  {
   "cell_type": "markdown",
   "id": "b48d0b01",
   "metadata": {
    "hidden": true
   },
   "source": []
  },
  {
   "cell_type": "markdown",
   "id": "c42116fd",
   "metadata": {
    "hidden": true
   },
   "source": []
  },
  {
   "cell_type": "markdown",
   "id": "516f55c8",
   "metadata": {
    "hidden": true
   },
   "source": []
  },
  {
   "cell_type": "markdown",
   "id": "592e56b9",
   "metadata": {
    "hidden": true
   },
   "source": []
  },
  {
   "cell_type": "markdown",
   "id": "a2b09b3c",
   "metadata": {
    "hidden": true
   },
   "source": []
  },
  {
   "cell_type": "markdown",
   "id": "9366a310",
   "metadata": {
    "hidden": true
   },
   "source": []
  },
  {
   "cell_type": "markdown",
   "id": "b2a9b399",
   "metadata": {
    "hidden": true
   },
   "source": []
  }
 ],
 "metadata": {
  "kernelspec": {
   "display_name": "Python 3 (ipykernel)",
   "language": "python",
   "name": "python3"
  },
  "language_info": {
   "codemirror_mode": {
    "name": "ipython",
    "version": 3
   },
   "file_extension": ".py",
   "mimetype": "text/x-python",
   "name": "python",
   "nbconvert_exporter": "python",
   "pygments_lexer": "ipython3",
   "version": "3.11.2"
  },
  "varInspector": {
   "cols": {
    "lenName": 16,
    "lenType": 16,
    "lenVar": 40
   },
   "kernels_config": {
    "python": {
     "delete_cmd_postfix": "",
     "delete_cmd_prefix": "del ",
     "library": "var_list.py",
     "varRefreshCmd": "print(var_dic_list())"
    },
    "r": {
     "delete_cmd_postfix": ") ",
     "delete_cmd_prefix": "rm(",
     "library": "var_list.r",
     "varRefreshCmd": "cat(var_dic_list()) "
    }
   },
   "types_to_exclude": [
    "module",
    "function",
    "builtin_function_or_method",
    "instance",
    "_Feature"
   ],
   "window_display": false
  }
 },
 "nbformat": 4,
 "nbformat_minor": 5
}
