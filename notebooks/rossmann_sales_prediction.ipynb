{
 "cells": [
  {
   "cell_type": "markdown",
   "id": "95e0015b",
   "metadata": {},
   "source": [
    "# 0.0 Imports"
   ]
  },
  {
   "cell_type": "code",
   "execution_count": 1,
   "id": "3fdbc132",
   "metadata": {
    "ExecuteTime": {
     "end_time": "2023-05-20T22:57:08.697342Z",
     "start_time": "2023-05-20T22:57:07.304350Z"
    }
   },
   "outputs": [],
   "source": [
    "import pandas as pd\n",
    "import numpy  as np\n",
    "\n",
    "import inflection\n",
    "import math\n",
    "import datetime\n",
    "import random\n",
    "import pickle\n",
    "\n",
    "import seaborn as sns\n",
    "import xgboost as xgb\n",
    "\n",
    "#from boruta import BorutaPy\n",
    "#from scipy import stats\n",
    "from matplotlib import pyplot as plt\n",
    "from matplotlib.gridspec import GridSpec\n",
    "from IPython.core.display import HTML\n",
    "\n",
    "from sklearn.preprocessing import RobustScaler, MinMaxScaler, LabelEncoder\n",
    "from sklearn.ensemble import RandomForestRegressor\n",
    "from sklearn.metrics import mean_absolute_error, mean_squared_error\n",
    "from sklearn.ensemble import RandomForestRegressor\n",
    "from sklearn.linear_model import LinearRegression, Lasso\n",
    "from sklearn.impute import KNNImputer\n",
    "from sklearn.compose import ColumnTransformer\n",
    "from sklearn.pipeline import Pipeline\n",
    "from sklearn.preprocessing import OneHotEncoder\n",
    "from sklearn.preprocessing import LabelEncoder\n",
    "from sklearn.preprocessing import OrdinalEncoder\n",
    "from sklearn.model_selection import train_test_split\n",
    "from sklearn.ensemble import ExtraTreesRegressor"
   ]
  },
  {
   "cell_type": "markdown",
   "id": "be1ccd49",
   "metadata": {},
   "source": [
    "## 0.1 Helper functions"
   ]
  },
  {
   "cell_type": "code",
   "execution_count": 2,
   "id": "0228d858",
   "metadata": {
    "ExecuteTime": {
     "end_time": "2023-05-20T22:57:08.727967Z",
     "start_time": "2023-05-20T22:57:08.712550Z"
    }
   },
   "outputs": [],
   "source": [
    "def rename_columns(dataframe):\n",
    "    df = dataframe.copy()\n",
    "    title = lambda x: inflection.titleize(x)\n",
    "    snakecase = lambda x: inflection.underscore(x)\n",
    "    spaces = lambda x: x.replace(\" \", \"\")\n",
    "    cols_old = list(df.columns)\n",
    "    cols_old = list(map(title, cols_old))\n",
    "    cols_old = list(map(spaces, cols_old))\n",
    "    cols_new = list(map(snakecase, cols_old))\n",
    "    df.columns = cols_new\n",
    "    return df\n",
    "\n",
    "def jupyter_settings():\n",
    "    %matplotlib inline\n",
    "    #%pylab inline\n",
    "    \n",
    "    plt.style.use( 'bmh' )\n",
    "    plt.rcParams['figure.figsize'] = [12, 8]\n",
    "    plt.rcParams['font.size'] = 24\n",
    "    \n",
    "    display( HTML( '<style>.container { width:100% !important; }</style>') )\n",
    "    #pd.set_option('max_columns', None, \"max_rows\", 50)\n",
    "    pd.options.display.max_rows = 999\n",
    "    pd.set_option( 'display.expand_frame_repr', False )\n",
    "    \n",
    "    sns.set()\n",
    "    \n",
    "def ml_error( model_name, y, yhat ):\n",
    "    mae = mean_absolute_error( y, yhat )\n",
    "    mape = mean_absolute_percentage_error( y, yhat )\n",
    "    rmse = np.sqrt( mean_squared_error( y, yhat ) )\n",
    "    \n",
    "    return pd.DataFrame( { 'Model Name': model_name,\n",
    "                           'MAE': mae,\n",
    "                           'MAPE': mape,\n",
    "                           'RMSE': rmse }, index=[0] )\n",
    "\n",
    "def mean_percentage_error( y, yhat ):\n",
    "    return np.mean( ( y - yhat ) / y )\n",
    "\n",
    "def mean_absolute_percentage_error( y, yhat ):\n",
    "    return np.mean( np.abs( ( y - yhat ) / y ) )\n",
    "\n",
    "def cross_validation(x_training, kfold, model_name, model, verbose=False):\n",
    "    mae_list = []\n",
    "    mape_list = []\n",
    "    rmse_list = []\n",
    "    \n",
    "    \n",
    "    for k in reversed(range(1, kfold+1)):\n",
    "        if verbose:\n",
    "            print('\\nKfold Number {}'. format(k))\n",
    "        # start date and end date for validation\n",
    "        validation_start_date = x_training['date'].max() - datetime.timedelta(days=k*6*7)\n",
    "\n",
    "\n",
    "        validation_end_date = x_training['date'].max() - datetime.timedelta(days=(k-1)*6*7)\n",
    "\n",
    "        # filtering dataset\n",
    "        training = x_training[x_training['date'] < validation_start_date]\n",
    "        validation = x_training[(x_training['date'] >= validation_start_date) & (x_training['date'] < validation_end_date)]\n",
    "\n",
    "        # training and validation dataset\n",
    "        # training\n",
    "        xtraining = training.drop(['date', 'sales'], axis=1)\n",
    "        ytraining = training['sales']\n",
    "\n",
    "        # validation\n",
    "        xvalidation = validation.drop(['date', 'sales'], axis=1)\n",
    "        yvalidation = validation['sales']\n",
    "\n",
    "        # model\n",
    "        m = model.fit(xtraining, ytraining)\n",
    "\n",
    "        # prediction\n",
    "        yhat = m.predict(xvalidation)\n",
    "\n",
    "        # performance\n",
    "        m_result = ml_error(model_name, np.expm1(yvalidation), np.expm1(yhat))\n",
    "\n",
    "\n",
    "        # store performance of each Kfold validation\n",
    "        mae_list.append(m_result['MAE'])\n",
    "        mape_list.append(m_result['MAPE'])\n",
    "        rmse_list.append(m_result['RMSE'])\n",
    "     \n",
    "    return pd.DataFrame({'Model name': model_name,\n",
    "     'MAE CV' : np.round(np.mean(mae_list), 2).astype(str) + ' +/- ' + np.round(np.std(mae_list), 2).astype(str),\n",
    "     'MAPE CV' : np.round(np.mean(mape_list), 2).astype(str) + ' +/- ' + np.round(np.std(mape_list), 2).astype(str),\n",
    "     'RMSE CV' : np.round(np.mean(rmse_list), 2).astype(str) + ' +/- ' + np.round(np.std(rmse_list), 2).astype(str)}, index=[0])\n"
   ]
  },
  {
   "cell_type": "code",
   "execution_count": 3,
   "id": "18021de9",
   "metadata": {
    "ExecuteTime": {
     "end_time": "2023-05-20T22:57:09.849020Z",
     "start_time": "2023-05-20T22:57:09.836420Z"
    }
   },
   "outputs": [
    {
     "data": {
      "text/html": [
       "<style>.container { width:100% !important; }</style>"
      ],
      "text/plain": [
       "<IPython.core.display.HTML object>"
      ]
     },
     "metadata": {},
     "output_type": "display_data"
    }
   ],
   "source": [
    "jupyter_settings()"
   ]
  },
  {
   "cell_type": "markdown",
   "id": "86361f26",
   "metadata": {},
   "source": [
    "## 0.2 Loading data"
   ]
  },
  {
   "cell_type": "code",
   "execution_count": 4,
   "id": "b30b9a29",
   "metadata": {
    "ExecuteTime": {
     "end_time": "2023-05-20T22:57:11.140534Z",
     "start_time": "2023-05-20T22:57:10.627919Z"
    }
   },
   "outputs": [],
   "source": [
    "df_raw_1 = pd.read_csv('../data/train.csv', low_memory=False)\n",
    "df_raw_2 = pd.read_csv('../data/store.csv', low_memory=False)"
   ]
  },
  {
   "cell_type": "code",
   "execution_count": 5,
   "id": "ca469a91",
   "metadata": {
    "ExecuteTime": {
     "end_time": "2023-05-20T22:57:11.348116Z",
     "start_time": "2023-05-20T22:57:11.184577Z"
    }
   },
   "outputs": [],
   "source": [
    "# Merging the data, on train we have the sales date on each store for a time, and on store we have information for each store\n",
    "df_raw = pd.merge(df_raw_1, df_raw_2, how='left', on='Store')"
   ]
  },
  {
   "cell_type": "markdown",
   "id": "0f7caf1c",
   "metadata": {
    "heading_collapsed": true
   },
   "source": [
    "# 1.0 Data description"
   ]
  },
  {
   "cell_type": "code",
   "execution_count": 6,
   "id": "d45310ab",
   "metadata": {
    "ExecuteTime": {
     "end_time": "2023-05-20T19:28:07.819696Z",
     "start_time": "2023-05-20T19:28:07.687118Z"
    },
    "hidden": true
   },
   "outputs": [],
   "source": [
    "df1 = df_raw.copy()"
   ]
  },
  {
   "cell_type": "markdown",
   "id": "d896a545",
   "metadata": {
    "ExecuteTime": {
     "end_time": "2023-03-27T21:49:43.050218Z",
     "start_time": "2023-03-27T21:49:43.043230Z"
    },
    "heading_collapsed": true,
    "hidden": true
   },
   "source": [
    "## 1.1 Rename columns"
   ]
  },
  {
   "cell_type": "code",
   "execution_count": 7,
   "id": "7c1b477d",
   "metadata": {
    "ExecuteTime": {
     "end_time": "2023-05-20T19:28:07.888028Z",
     "start_time": "2023-05-20T19:28:07.820699Z"
    },
    "hidden": true
   },
   "outputs": [],
   "source": [
    "# Using the function we created in section 0.1\n",
    "df1 = rename_columns(df1)"
   ]
  },
  {
   "cell_type": "markdown",
   "id": "338dfbfe",
   "metadata": {
    "heading_collapsed": true,
    "hidden": true
   },
   "source": [
    "## 1.2 Data dimensions"
   ]
  },
  {
   "cell_type": "code",
   "execution_count": 8,
   "id": "f85697d2",
   "metadata": {
    "ExecuteTime": {
     "end_time": "2023-05-20T19:28:07.893263Z",
     "start_time": "2023-05-20T19:28:07.890089Z"
    },
    "hidden": true
   },
   "outputs": [
    {
     "name": "stdout",
     "output_type": "stream",
     "text": [
      "Number of rows: 1017209\n",
      "Number of cols: 18\n"
     ]
    }
   ],
   "source": [
    "print('Number of rows: {}'.format(df1.shape[0]))\n",
    "print('Number of cols: {}'.format(df1.shape[1]))"
   ]
  },
  {
   "cell_type": "markdown",
   "id": "07f3ebf9",
   "metadata": {
    "heading_collapsed": true,
    "hidden": true
   },
   "source": [
    "## 1.3 Data types"
   ]
  },
  {
   "cell_type": "code",
   "execution_count": 9,
   "id": "1469028d",
   "metadata": {
    "ExecuteTime": {
     "end_time": "2023-05-20T19:28:07.901510Z",
     "start_time": "2023-05-20T19:28:07.894269Z"
    },
    "hidden": true
   },
   "outputs": [
    {
     "data": {
      "text/plain": [
       "store                             int64\n",
       "day_of_week                       int64\n",
       "date                             object\n",
       "sales                             int64\n",
       "customers                         int64\n",
       "open                              int64\n",
       "promo                             int64\n",
       "state_holiday                    object\n",
       "school_holiday                    int64\n",
       "store_type                       object\n",
       "assortment                       object\n",
       "competition_distance            float64\n",
       "competition_open_since_month    float64\n",
       "competition_open_since_year     float64\n",
       "promo2                            int64\n",
       "promo2_since_week               float64\n",
       "promo2_since_year               float64\n",
       "promo_interval                   object\n",
       "dtype: object"
      ]
     },
     "execution_count": 9,
     "metadata": {},
     "output_type": "execute_result"
    }
   ],
   "source": [
    "df1.dtypes"
   ]
  },
  {
   "cell_type": "code",
   "execution_count": 10,
   "id": "9036d9e8",
   "metadata": {
    "ExecuteTime": {
     "end_time": "2023-05-20T19:28:07.996290Z",
     "start_time": "2023-05-20T19:28:07.905506Z"
    },
    "hidden": true
   },
   "outputs": [],
   "source": [
    "#Changing the type to date\n",
    "df1['date'] = pd.to_datetime(df1['date'])"
   ]
  },
  {
   "cell_type": "markdown",
   "id": "48c44c26",
   "metadata": {
    "heading_collapsed": true,
    "hidden": true
   },
   "source": [
    "## 1.4 Check NA"
   ]
  },
  {
   "cell_type": "code",
   "execution_count": 11,
   "id": "bef2d76a",
   "metadata": {
    "ExecuteTime": {
     "end_time": "2023-05-20T19:28:08.126986Z",
     "start_time": "2023-05-20T19:28:07.997291Z"
    },
    "hidden": true
   },
   "outputs": [
    {
     "data": {
      "text/plain": [
       "store                                0\n",
       "day_of_week                          0\n",
       "date                                 0\n",
       "sales                                0\n",
       "customers                            0\n",
       "open                                 0\n",
       "promo                                0\n",
       "state_holiday                        0\n",
       "school_holiday                       0\n",
       "store_type                           0\n",
       "assortment                           0\n",
       "competition_distance              2642\n",
       "competition_open_since_month    323348\n",
       "competition_open_since_year     323348\n",
       "promo2                               0\n",
       "promo2_since_week               508031\n",
       "promo2_since_year               508031\n",
       "promo_interval                  508031\n",
       "dtype: int64"
      ]
     },
     "execution_count": 11,
     "metadata": {},
     "output_type": "execute_result"
    }
   ],
   "source": [
    "df1.isna().sum()"
   ]
  },
  {
   "cell_type": "code",
   "execution_count": 12,
   "id": "00e7044b",
   "metadata": {
    "ExecuteTime": {
     "end_time": "2023-05-20T19:28:08.259290Z",
     "start_time": "2023-05-20T19:28:08.128076Z"
    },
    "hidden": true
   },
   "outputs": [
    {
     "data": {
      "text/plain": [
       "store                           0.000000\n",
       "day_of_week                     0.000000\n",
       "date                            0.000000\n",
       "sales                           0.000000\n",
       "customers                       0.000000\n",
       "open                            0.000000\n",
       "promo                           0.000000\n",
       "state_holiday                   0.000000\n",
       "school_holiday                  0.000000\n",
       "store_type                      0.000000\n",
       "assortment                      0.000000\n",
       "competition_distance            0.002597\n",
       "competition_open_since_month    0.317878\n",
       "competition_open_since_year     0.317878\n",
       "promo2                          0.000000\n",
       "promo2_since_week               0.499436\n",
       "promo2_since_year               0.499436\n",
       "promo_interval                  0.499436\n",
       "dtype: float64"
      ]
     },
     "execution_count": 12,
     "metadata": {},
     "output_type": "execute_result"
    }
   ],
   "source": [
    "df1.isna().mean()"
   ]
  },
  {
   "cell_type": "markdown",
   "id": "5cb2ccb1",
   "metadata": {
    "heading_collapsed": true,
    "hidden": true
   },
   "source": [
    "## 1.5 Fillout NA "
   ]
  },
  {
   "cell_type": "code",
   "execution_count": 13,
   "id": "0d68e738",
   "metadata": {
    "ExecuteTime": {
     "end_time": "2023-05-20T19:28:50.135656Z",
     "start_time": "2023-05-20T19:28:08.261290Z"
    },
    "hidden": true
   },
   "outputs": [],
   "source": [
    "# Dealing the columns with NaNs\n",
    "\n",
    "# competition_distance - imputting 200000 distance for nan values\n",
    "df1['competition_distance'] = df1['competition_distance'].apply(lambda x: 200000 if np.isnan(x) else x)\n",
    "\n",
    "# competition_open_since_month - imputting the month of register for competition open\n",
    "df1['competition_open_since_month'] = df1[['date', 'competition_open_since_month']].apply(lambda x: x['date'].month if np.isnan(x['competition_open_since_month']) else x['competition_open_since_month'], axis=1)\n",
    "\n",
    "# competition_open_since_year - imptting the year of register for competition open  \n",
    "df1['competition_open_since_year'] = df1[['date', 'competition_open_since_year']].apply(lambda x: x['date'].year if math.isnan(x['competition_open_since_year']) else x['competition_open_since_year'], axis=1)\n",
    "  \n",
    "\n",
    "# promo2_since_week - imputting the week of register for promo since\n",
    "df1['promo2_since_week'] = df1[['date', 'promo2_since_week']].apply(lambda x: x['date'].week if np.isnan(x['promo2_since_week']) else x['promo2_since_week'], axis=1)\n",
    "\n",
    "# promo2_since_year - imputting the year of register for promo since\n",
    "df1['promo2_since_year'] = df1[['date', 'promo2_since_year']].apply(lambda x: x['date'].year if np.isnan(x['promo2_since_year']) else x['promo2_since_year'], axis=1)\n",
    "\n",
    "\n",
    "# promo_interval - imputting zero for promo interval\n",
    "df1['promo_interval'] = df1['promo_interval'].fillna(0)\n",
    "\n",
    "# Creating month map, then creating a column with the name of the month to check if there is a promo during the time or not\n",
    "month_map = {1:'Jan', 2:'Feb', 3:'Mar', 4:'Apr', 5:'May', 6:'Jun', 7:'Jul', 8:'Aug', 9:'Sept', 10:'Oct', 11:'Nov', 12:'Dec'}\n",
    "\n",
    "df1['month_map'] = df1['date'].dt.month.map(month_map)\n",
    "\n",
    "df1['is_promo'] = df1[['promo_interval', 'month_map']].apply(lambda x: 0 if x['promo_interval'] == 0 else 1 if x['month_map'] in x['promo_interval'].split(',') else 0, axis=1)\n"
   ]
  },
  {
   "cell_type": "markdown",
   "id": "280717e4",
   "metadata": {
    "heading_collapsed": true,
    "hidden": true
   },
   "source": [
    "## 1.6 Change Types"
   ]
  },
  {
   "cell_type": "code",
   "execution_count": 14,
   "id": "e260cd06",
   "metadata": {
    "ExecuteTime": {
     "end_time": "2023-05-20T19:28:50.142155Z",
     "start_time": "2023-05-20T19:28:50.137165Z"
    },
    "hidden": true,
    "scrolled": false
   },
   "outputs": [
    {
     "data": {
      "text/plain": [
       "store                                    int64\n",
       "day_of_week                              int64\n",
       "date                            datetime64[ns]\n",
       "sales                                    int64\n",
       "customers                                int64\n",
       "open                                     int64\n",
       "promo                                    int64\n",
       "state_holiday                           object\n",
       "school_holiday                           int64\n",
       "store_type                              object\n",
       "assortment                              object\n",
       "competition_distance                   float64\n",
       "competition_open_since_month           float64\n",
       "competition_open_since_year            float64\n",
       "promo2                                   int64\n",
       "promo2_since_week                      float64\n",
       "promo2_since_year                      float64\n",
       "promo_interval                          object\n",
       "month_map                               object\n",
       "is_promo                                 int64\n",
       "dtype: object"
      ]
     },
     "execution_count": 14,
     "metadata": {},
     "output_type": "execute_result"
    }
   ],
   "source": [
    "df1.dtypes"
   ]
  },
  {
   "cell_type": "code",
   "execution_count": 15,
   "id": "f24bdb2e",
   "metadata": {
    "ExecuteTime": {
     "end_time": "2023-05-20T19:28:50.172414Z",
     "start_time": "2023-05-20T19:28:50.143158Z"
    },
    "hidden": true
   },
   "outputs": [],
   "source": [
    "df1['competition_open_since_month'] = df1['competition_open_since_month'].astype('int64')\n",
    "df1['competition_open_since_year'] = df1['competition_open_since_year'].astype('int64')\n",
    "\n",
    "df1['promo2_since_week'] = df1['promo2_since_week'].astype('int64')\n",
    "df1['promo2_since_year'] = df1['promo2_since_year'].astype('int64')"
   ]
  },
  {
   "cell_type": "markdown",
   "id": "7487e9d0",
   "metadata": {
    "ExecuteTime": {
     "end_time": "2023-03-27T21:50:41.624696Z",
     "start_time": "2023-03-27T21:50:41.619175Z"
    },
    "heading_collapsed": true,
    "hidden": true
   },
   "source": [
    "## 1.7 Descriptive Statistical"
   ]
  },
  {
   "cell_type": "code",
   "execution_count": 16,
   "id": "c9a6c18f",
   "metadata": {
    "ExecuteTime": {
     "end_time": "2023-05-20T19:28:50.325459Z",
     "start_time": "2023-05-20T19:28:50.174431Z"
    },
    "hidden": true
   },
   "outputs": [],
   "source": [
    "num_attributes = df1.select_dtypes(include = ['int64', 'float64', 'int32', 'float32'])\n",
    "cat_attributes = df1.select_dtypes(exclude = ['int64', 'float64', 'datetime64[ns]', 'int32', 'float32'])"
   ]
  },
  {
   "cell_type": "markdown",
   "id": "04eaff87",
   "metadata": {
    "hidden": true
   },
   "source": [
    "### 1.7.1 Numerical attributes"
   ]
  },
  {
   "cell_type": "code",
   "execution_count": 17,
   "id": "65813fc8",
   "metadata": {
    "ExecuteTime": {
     "end_time": "2023-05-20T19:28:51.064509Z",
     "start_time": "2023-05-20T19:28:50.326969Z"
    },
    "hidden": true
   },
   "outputs": [
    {
     "data": {
      "text/html": [
       "<div>\n",
       "<style scoped>\n",
       "    .dataframe tbody tr th:only-of-type {\n",
       "        vertical-align: middle;\n",
       "    }\n",
       "\n",
       "    .dataframe tbody tr th {\n",
       "        vertical-align: top;\n",
       "    }\n",
       "\n",
       "    .dataframe thead th {\n",
       "        text-align: right;\n",
       "    }\n",
       "</style>\n",
       "<table border=\"1\" class=\"dataframe\">\n",
       "  <thead>\n",
       "    <tr style=\"text-align: right;\">\n",
       "      <th></th>\n",
       "      <th>min</th>\n",
       "      <th>max</th>\n",
       "      <th>mean</th>\n",
       "      <th>std</th>\n",
       "      <th>range</th>\n",
       "      <th>kurt</th>\n",
       "      <th>skew</th>\n",
       "    </tr>\n",
       "  </thead>\n",
       "  <tbody>\n",
       "    <tr>\n",
       "      <th>store</th>\n",
       "      <td>1.0</td>\n",
       "      <td>1115.0</td>\n",
       "      <td>558.429727</td>\n",
       "      <td>321.908651</td>\n",
       "      <td>-1114.0</td>\n",
       "      <td>-1.200524</td>\n",
       "      <td>-0.000955</td>\n",
       "    </tr>\n",
       "    <tr>\n",
       "      <th>day_of_week</th>\n",
       "      <td>1.0</td>\n",
       "      <td>7.0</td>\n",
       "      <td>3.998341</td>\n",
       "      <td>1.997391</td>\n",
       "      <td>-6.0</td>\n",
       "      <td>-1.246873</td>\n",
       "      <td>0.001593</td>\n",
       "    </tr>\n",
       "    <tr>\n",
       "      <th>sales</th>\n",
       "      <td>0.0</td>\n",
       "      <td>41551.0</td>\n",
       "      <td>5773.818972</td>\n",
       "      <td>3849.926175</td>\n",
       "      <td>-41551.0</td>\n",
       "      <td>1.778375</td>\n",
       "      <td>0.641460</td>\n",
       "    </tr>\n",
       "    <tr>\n",
       "      <th>customers</th>\n",
       "      <td>0.0</td>\n",
       "      <td>7388.0</td>\n",
       "      <td>633.145946</td>\n",
       "      <td>464.411734</td>\n",
       "      <td>-7388.0</td>\n",
       "      <td>7.091773</td>\n",
       "      <td>1.598650</td>\n",
       "    </tr>\n",
       "    <tr>\n",
       "      <th>open</th>\n",
       "      <td>0.0</td>\n",
       "      <td>1.0</td>\n",
       "      <td>0.830107</td>\n",
       "      <td>0.375539</td>\n",
       "      <td>-1.0</td>\n",
       "      <td>1.090723</td>\n",
       "      <td>-1.758045</td>\n",
       "    </tr>\n",
       "    <tr>\n",
       "      <th>promo</th>\n",
       "      <td>0.0</td>\n",
       "      <td>1.0</td>\n",
       "      <td>0.381515</td>\n",
       "      <td>0.485759</td>\n",
       "      <td>-1.0</td>\n",
       "      <td>-1.762018</td>\n",
       "      <td>0.487838</td>\n",
       "    </tr>\n",
       "    <tr>\n",
       "      <th>school_holiday</th>\n",
       "      <td>0.0</td>\n",
       "      <td>1.0</td>\n",
       "      <td>0.178647</td>\n",
       "      <td>0.383056</td>\n",
       "      <td>-1.0</td>\n",
       "      <td>0.815154</td>\n",
       "      <td>1.677842</td>\n",
       "    </tr>\n",
       "    <tr>\n",
       "      <th>competition_distance</th>\n",
       "      <td>20.0</td>\n",
       "      <td>200000.0</td>\n",
       "      <td>5935.442677</td>\n",
       "      <td>12547.652996</td>\n",
       "      <td>-199980.0</td>\n",
       "      <td>147.789712</td>\n",
       "      <td>10.242344</td>\n",
       "    </tr>\n",
       "    <tr>\n",
       "      <th>competition_open_since_month</th>\n",
       "      <td>1.0</td>\n",
       "      <td>12.0</td>\n",
       "      <td>6.786849</td>\n",
       "      <td>3.311087</td>\n",
       "      <td>-11.0</td>\n",
       "      <td>-1.232607</td>\n",
       "      <td>-0.042076</td>\n",
       "    </tr>\n",
       "    <tr>\n",
       "      <th>competition_open_since_year</th>\n",
       "      <td>1900.0</td>\n",
       "      <td>2015.0</td>\n",
       "      <td>2010.324840</td>\n",
       "      <td>5.515593</td>\n",
       "      <td>-115.0</td>\n",
       "      <td>124.071304</td>\n",
       "      <td>-7.235657</td>\n",
       "    </tr>\n",
       "    <tr>\n",
       "      <th>promo2</th>\n",
       "      <td>0.0</td>\n",
       "      <td>1.0</td>\n",
       "      <td>0.500564</td>\n",
       "      <td>0.500000</td>\n",
       "      <td>-1.0</td>\n",
       "      <td>-1.999999</td>\n",
       "      <td>-0.002255</td>\n",
       "    </tr>\n",
       "    <tr>\n",
       "      <th>promo2_since_week</th>\n",
       "      <td>1.0</td>\n",
       "      <td>52.0</td>\n",
       "      <td>23.619033</td>\n",
       "      <td>14.310064</td>\n",
       "      <td>-51.0</td>\n",
       "      <td>-1.184046</td>\n",
       "      <td>0.178723</td>\n",
       "    </tr>\n",
       "    <tr>\n",
       "      <th>promo2_since_year</th>\n",
       "      <td>2009.0</td>\n",
       "      <td>2015.0</td>\n",
       "      <td>2012.793297</td>\n",
       "      <td>1.662658</td>\n",
       "      <td>-6.0</td>\n",
       "      <td>-0.210075</td>\n",
       "      <td>-0.784436</td>\n",
       "    </tr>\n",
       "    <tr>\n",
       "      <th>is_promo</th>\n",
       "      <td>0.0</td>\n",
       "      <td>1.0</td>\n",
       "      <td>0.171835</td>\n",
       "      <td>0.377237</td>\n",
       "      <td>-1.0</td>\n",
       "      <td>1.027039</td>\n",
       "      <td>1.739838</td>\n",
       "    </tr>\n",
       "  </tbody>\n",
       "</table>\n",
       "</div>"
      ],
      "text/plain": [
       "                                 min       max         mean           std     range        kurt       skew\n",
       "store                            1.0    1115.0   558.429727    321.908651   -1114.0   -1.200524  -0.000955\n",
       "day_of_week                      1.0       7.0     3.998341      1.997391      -6.0   -1.246873   0.001593\n",
       "sales                            0.0   41551.0  5773.818972   3849.926175  -41551.0    1.778375   0.641460\n",
       "customers                        0.0    7388.0   633.145946    464.411734   -7388.0    7.091773   1.598650\n",
       "open                             0.0       1.0     0.830107      0.375539      -1.0    1.090723  -1.758045\n",
       "promo                            0.0       1.0     0.381515      0.485759      -1.0   -1.762018   0.487838\n",
       "school_holiday                   0.0       1.0     0.178647      0.383056      -1.0    0.815154   1.677842\n",
       "competition_distance            20.0  200000.0  5935.442677  12547.652996 -199980.0  147.789712  10.242344\n",
       "competition_open_since_month     1.0      12.0     6.786849      3.311087     -11.0   -1.232607  -0.042076\n",
       "competition_open_since_year   1900.0    2015.0  2010.324840      5.515593    -115.0  124.071304  -7.235657\n",
       "promo2                           0.0       1.0     0.500564      0.500000      -1.0   -1.999999  -0.002255\n",
       "promo2_since_week                1.0      52.0    23.619033     14.310064     -51.0   -1.184046   0.178723\n",
       "promo2_since_year             2009.0    2015.0  2012.793297      1.662658      -6.0   -0.210075  -0.784436\n",
       "is_promo                         0.0       1.0     0.171835      0.377237      -1.0    1.027039   1.739838"
      ]
     },
     "execution_count": 17,
     "metadata": {},
     "output_type": "execute_result"
    }
   ],
   "source": [
    "df_aux = num_attributes.describe().T[['min', 'max', 'mean', 'std']]\n",
    "range_ = df_aux['min'] - df_aux['max']\n",
    "kurt = num_attributes.kurt(axis=0)\n",
    "skew = num_attributes.skew(axis=0)\n",
    "\n",
    "df_aux['range'] = range_\n",
    "df_aux['kurt'] = kurt\n",
    "df_aux['skew'] = skew\n",
    "\n",
    "df_aux\n"
   ]
  },
  {
   "cell_type": "code",
   "execution_count": 18,
   "id": "4d413e9d",
   "metadata": {
    "ExecuteTime": {
     "end_time": "2023-05-20T19:28:52.080757Z",
     "start_time": "2023-05-20T19:28:51.065513Z"
    },
    "hidden": true
   },
   "outputs": [
    {
     "data": {
      "image/png": "[encoded data removed]",
      "text/plain": [
       "<Figure size 1200x800 with 1 Axes>"
      ]
     },
     "metadata": {},
     "output_type": "display_data"
    }
   ],
   "source": [
    "sns.histplot(df1['competition_distance'], kde=False, bins=200);"
   ]
  },
  {
   "cell_type": "markdown",
   "id": "bf190492",
   "metadata": {
    "hidden": true
   },
   "source": [
    "### 1.7.2 Categorical attributes"
   ]
  },
  {
   "cell_type": "code",
   "execution_count": 19,
   "id": "31e3cec6",
   "metadata": {
    "ExecuteTime": {
     "end_time": "2023-05-20T19:28:52.569379Z",
     "start_time": "2023-05-20T19:28:52.081760Z"
    },
    "hidden": true
   },
   "outputs": [
    {
     "data": {
      "text/plain": [
       "<Axes: xlabel='assortment', ylabel='sales'>"
      ]
     },
     "execution_count": 19,
     "metadata": {},
     "output_type": "execute_result"
    },
    {
     "data": {
      "image/png": "[encoded data removed]",
      "text/plain": [
       "<Figure size 1200x800 with 3 Axes>"
      ]
     },
     "metadata": {},
     "output_type": "display_data"
    }
   ],
   "source": [
    "aux = df1[ (df1['state_holiday'] != '0') & (df1['sales'] > 0) ]\n",
    "\n",
    "plt.subplot(1, 3, 1)\n",
    "sns.boxplot(x='state_holiday', y='sales', data=aux)\n",
    "\n",
    "plt.subplot(1, 3, 2)\n",
    "sns.boxplot(x='store_type', y='sales', data=aux)\n",
    "\n",
    "plt.subplot(1, 3, 3)\n",
    "sns.boxplot(x='assortment', y='sales', data=aux)"
   ]
  },
  {
   "cell_type": "markdown",
   "id": "243f49fb",
   "metadata": {
    "heading_collapsed": true
   },
   "source": [
    "# 2.0 Feature engineering"
   ]
  },
  {
   "cell_type": "code",
   "execution_count": 20,
   "id": "852aabbc",
   "metadata": {
    "ExecuteTime": {
     "end_time": "2023-05-20T19:28:52.734972Z",
     "start_time": "2023-05-20T19:28:52.570383Z"
    },
    "hidden": true
   },
   "outputs": [],
   "source": [
    "df2 = df1.copy()"
   ]
  },
  {
   "cell_type": "markdown",
   "id": "c500b664",
   "metadata": {
    "heading_collapsed": true,
    "hidden": true
   },
   "source": [
    "## 2.1 Mental map of hypothesis"
   ]
  },
  {
   "cell_type": "code",
   "execution_count": null,
   "id": "d346c48b",
   "metadata": {
    "hidden": true
   },
   "outputs": [],
   "source": []
  },
  {
   "cell_type": "markdown",
   "id": "ff3c36eb",
   "metadata": {
    "heading_collapsed": true,
    "hidden": true
   },
   "source": [
    "## 2.2 Creating hypothesis"
   ]
  },
  {
   "cell_type": "code",
   "execution_count": null,
   "id": "673e8db6",
   "metadata": {
    "hidden": true
   },
   "outputs": [],
   "source": []
  },
  {
   "cell_type": "markdown",
   "id": "0eb8cfb8",
   "metadata": {
    "heading_collapsed": true,
    "hidden": true
   },
   "source": [
    "## 2.3 Final hypothesis"
   ]
  },
  {
   "cell_type": "code",
   "execution_count": null,
   "id": "ad282494",
   "metadata": {
    "hidden": true
   },
   "outputs": [],
   "source": []
  },
  {
   "cell_type": "markdown",
   "id": "ab6f6a5e",
   "metadata": {
    "hidden": true
   },
   "source": [
    "## 2.4 Feature engineering"
   ]
  },
  {
   "cell_type": "code",
   "execution_count": 21,
   "id": "7d9585c3",
   "metadata": {
    "ExecuteTime": {
     "end_time": "2023-05-20T19:29:24.672333Z",
     "start_time": "2023-05-20T19:28:52.735974Z"
    },
    "hidden": true
   },
   "outputs": [],
   "source": [
    "# Creating a few variables to check the hypothesis\n",
    "\n",
    "#year\n",
    "df2['year'] = df2['date'].dt.year\n",
    "\n",
    "#month\n",
    "df2['month'] = df2['date'].dt.month\n",
    "\n",
    "#day\n",
    "df2['day'] = df2['date'].dt.day\n",
    "\n",
    "#week of year\n",
    "df2['week_of_year'] = df2['date'].dt.isocalendar().week.astype(int)\n",
    "\n",
    "#year week\n",
    "df2['year_week'] = df2['date'].dt.strftime('%Y-%W')\n",
    "\n",
    "#competition since\n",
    "df2['competition_since'] = df2.apply(lambda x: datetime.datetime(year=x['competition_open_since_year'], month=x['competition_open_since_month'], day=1), axis=1)\n",
    "df2['competition_time_month'] = ((df2['date'] - df2['competition_since']) / 30).apply(lambda x: x.days).astype(int)\n",
    "\n",
    "#promo since\n",
    "df2['promo_since'] = df2['promo2_since_year'].astype(str) + '-' + df2['promo2_since_week'].astype(str)\n",
    "df2['promo_since'] = df2['promo_since'].apply(lambda x: datetime.datetime.strptime(x + '-1', '%Y-%W-%w') - datetime.timedelta(days=7) )\n",
    "\n",
    "# promo time week = date - promo since/7 (pega dia)\n",
    "df2['promo_time_week'] = ((df2['date'] - df2['promo_since'])/7).apply(lambda x: x.days).astype(int)\n",
    "\n",
    "#assortment\n",
    "df2['assortment'] = df2['assortment'].apply(lambda x: 'basic' if x=='a' else 'extra' if x=='b' else 'extended')\n",
    "\n",
    "#state holiday\n",
    "df2['state_holiday'] = df2['state_holiday'].apply(lambda x: 'public_holiday' if x=='a' else 'easter_holiday' if x=='b' else 'christmas' if x=='c' else 'regular_day')"
   ]
  },
  {
   "cell_type": "markdown",
   "id": "4ff4f415",
   "metadata": {
    "heading_collapsed": true
   },
   "source": [
    "# 3.0 Feature filtering"
   ]
  },
  {
   "cell_type": "code",
   "execution_count": 22,
   "id": "d597110b",
   "metadata": {
    "ExecuteTime": {
     "end_time": "2023-05-20T19:29:24.834909Z",
     "start_time": "2023-05-20T19:29:24.673366Z"
    },
    "hidden": true
   },
   "outputs": [],
   "source": [
    "df3 = df2.copy()"
   ]
  },
  {
   "cell_type": "markdown",
   "id": "c9427127",
   "metadata": {
    "hidden": true
   },
   "source": [
    "## 3.1 Filtragem das linhas"
   ]
  },
  {
   "cell_type": "code",
   "execution_count": 23,
   "id": "4dd26efd",
   "metadata": {
    "ExecuteTime": {
     "end_time": "2023-05-20T19:29:24.953726Z",
     "start_time": "2023-05-20T19:29:24.835395Z"
    },
    "hidden": true
   },
   "outputs": [],
   "source": [
    "# Selecting only the days we have sales and the days the stores are open\n",
    "df3 = df3[(df3['sales'] > 0) & (df3['open'] != 0)]"
   ]
  },
  {
   "cell_type": "markdown",
   "id": "b59f4ddd",
   "metadata": {
    "hidden": true
   },
   "source": [
    "## 3.2 Seleção das colunas"
   ]
  },
  {
   "cell_type": "code",
   "execution_count": 24,
   "id": "3eee5818",
   "metadata": {
    "ExecuteTime": {
     "end_time": "2023-05-20T19:29:25.029445Z",
     "start_time": "2023-05-20T19:29:24.954734Z"
    },
    "hidden": true
   },
   "outputs": [
    {
     "data": {
      "text/plain": [
       "Index(['store', 'day_of_week', 'date', 'sales', 'promo', 'state_holiday',\n",
       "       'school_holiday', 'store_type', 'assortment', 'competition_distance',\n",
       "       'competition_open_since_month', 'competition_open_since_year', 'promo2',\n",
       "       'promo2_since_week', 'promo2_since_year', 'is_promo', 'year', 'month',\n",
       "       'day', 'week_of_year', 'year_week', 'competition_since',\n",
       "       'competition_time_month', 'promo_since', 'promo_time_week'],\n",
       "      dtype='object')"
      ]
     },
     "execution_count": 24,
     "metadata": {},
     "output_type": "execute_result"
    }
   ],
   "source": [
    "# Dropping columns customers (we can't know customers will be in the stores in following days), open (we already filter for only open stores), promo interval and month map only used to create is_promo, so we don't need them\n",
    "cols_drop = ['customers', 'open', 'promo_interval', 'month_map']\n",
    "df3 = df3.drop(cols_drop, axis=1)\n",
    "df3.columns"
   ]
  },
  {
   "cell_type": "markdown",
   "id": "dbcc5fcb",
   "metadata": {
    "heading_collapsed": true
   },
   "source": [
    "# 4.0 EDA - Análise exploratória dos dados"
   ]
  },
  {
   "cell_type": "code",
   "execution_count": 25,
   "id": "d3d0c10d",
   "metadata": {
    "ExecuteTime": {
     "end_time": "2023-05-20T19:29:25.074998Z",
     "start_time": "2023-05-20T19:29:25.030451Z"
    },
    "hidden": true
   },
   "outputs": [],
   "source": [
    "df4 = df3.copy()"
   ]
  },
  {
   "cell_type": "markdown",
   "id": "150e6b9b",
   "metadata": {
    "heading_collapsed": true,
    "hidden": true
   },
   "source": [
    "## 4.1 Análise univariada"
   ]
  },
  {
   "cell_type": "markdown",
   "id": "552e9255",
   "metadata": {
    "hidden": true
   },
   "source": [
    "### 4.1.1 Response variable"
   ]
  },
  {
   "cell_type": "markdown",
   "id": "2ed3971d",
   "metadata": {
    "hidden": true
   },
   "source": [
    "### 4.1.2 Numerical variable"
   ]
  },
  {
   "cell_type": "markdown",
   "id": "21a46939",
   "metadata": {
    "hidden": true
   },
   "source": [
    "### 4.1.3 Categorical variable"
   ]
  },
  {
   "cell_type": "markdown",
   "id": "4dad019a",
   "metadata": {
    "heading_collapsed": true,
    "hidden": true
   },
   "source": [
    "## 4.2 Análise bivariada"
   ]
  },
  {
   "cell_type": "markdown",
   "id": "54984896",
   "metadata": {
    "hidden": true
   },
   "source": [
    "### 4.2.x Hipothesis validation"
   ]
  },
  {
   "cell_type": "code",
   "execution_count": null,
   "id": "a5dce129",
   "metadata": {
    "hidden": true
   },
   "outputs": [],
   "source": []
  },
  {
   "cell_type": "markdown",
   "id": "8a47b60f",
   "metadata": {
    "hidden": true
   },
   "source": [
    "### 4.2.y Hipothesis resume"
   ]
  },
  {
   "cell_type": "code",
   "execution_count": null,
   "id": "6384e594",
   "metadata": {
    "hidden": true
   },
   "outputs": [],
   "source": []
  },
  {
   "cell_type": "markdown",
   "id": "6d9092fb",
   "metadata": {
    "heading_collapsed": true,
    "hidden": true
   },
   "source": [
    "## 4.3 Análise multivariada"
   ]
  },
  {
   "cell_type": "markdown",
   "id": "87aa4585",
   "metadata": {
    "hidden": true
   },
   "source": [
    "### 4.3.1 Numerical attributes"
   ]
  },
  {
   "cell_type": "code",
   "execution_count": null,
   "id": "e499ee73",
   "metadata": {
    "hidden": true
   },
   "outputs": [],
   "source": []
  },
  {
   "cell_type": "markdown",
   "id": "f5069ce4",
   "metadata": {
    "hidden": true
   },
   "source": [
    "### 4.3.2 Categorical attributes"
   ]
  },
  {
   "cell_type": "code",
   "execution_count": null,
   "id": "4ca1b305",
   "metadata": {
    "hidden": true
   },
   "outputs": [],
   "source": []
  },
  {
   "cell_type": "markdown",
   "id": "34dcd39c",
   "metadata": {
    "heading_collapsed": true
   },
   "source": [
    "# 5.0 Data Preparation"
   ]
  },
  {
   "cell_type": "code",
   "execution_count": 102,
   "id": "2b1bb576",
   "metadata": {
    "ExecuteTime": {
     "end_time": "2023-05-20T20:51:57.685387Z",
     "start_time": "2023-05-20T20:51:57.560261Z"
    },
    "hidden": true
   },
   "outputs": [],
   "source": [
    "df5 = df4.copy()"
   ]
  },
  {
   "cell_type": "markdown",
   "id": "61a6e56d",
   "metadata": {
    "hidden": true
   },
   "source": [
    "## 5.1 Normalization"
   ]
  },
  {
   "cell_type": "markdown",
   "id": "b828bac6",
   "metadata": {
    "ExecuteTime": {
     "end_time": "2023-05-03T03:12:39.191357Z",
     "start_time": "2023-05-03T03:12:39.147386Z"
    },
    "hidden": true
   },
   "source": [
    "There is no need to normalize because we don't see any normal distribution in section 4.1.2"
   ]
  },
  {
   "cell_type": "markdown",
   "id": "34e0b48c",
   "metadata": {
    "hidden": true
   },
   "source": [
    "## 5.2 Rescaling"
   ]
  },
  {
   "cell_type": "markdown",
   "id": "a847e235",
   "metadata": {
    "hidden": true
   },
   "source": [
    "Let's see the features with highest std, and select some of them to rescale"
   ]
  },
  {
   "cell_type": "code",
   "execution_count": 27,
   "id": "6b6603a1",
   "metadata": {
    "ExecuteTime": {
     "end_time": "2023-05-20T19:29:25.931588Z",
     "start_time": "2023-05-20T19:29:25.122697Z"
    },
    "hidden": true
   },
   "outputs": [
    {
     "data": {
      "text/html": [
       "<div>\n",
       "<style scoped>\n",
       "    .dataframe tbody tr th:only-of-type {\n",
       "        vertical-align: middle;\n",
       "    }\n",
       "\n",
       "    .dataframe tbody tr th {\n",
       "        vertical-align: top;\n",
       "    }\n",
       "\n",
       "    .dataframe thead th {\n",
       "        text-align: right;\n",
       "    }\n",
       "</style>\n",
       "<table border=\"1\" class=\"dataframe\">\n",
       "  <thead>\n",
       "    <tr style=\"text-align: right;\">\n",
       "      <th></th>\n",
       "      <th>min</th>\n",
       "      <th>max</th>\n",
       "      <th>mean</th>\n",
       "      <th>std</th>\n",
       "      <th>range</th>\n",
       "      <th>kurt</th>\n",
       "      <th>skew</th>\n",
       "    </tr>\n",
       "  </thead>\n",
       "  <tbody>\n",
       "    <tr>\n",
       "      <th>competition_distance</th>\n",
       "      <td>20.0</td>\n",
       "      <td>200000.0</td>\n",
       "      <td>5961.827515</td>\n",
       "      <td>12592.181107</td>\n",
       "      <td>-199980.0</td>\n",
       "      <td>147.789712</td>\n",
       "      <td>10.242344</td>\n",
       "    </tr>\n",
       "    <tr>\n",
       "      <th>sales</th>\n",
       "      <td>46.0</td>\n",
       "      <td>41551.0</td>\n",
       "      <td>6955.959134</td>\n",
       "      <td>3103.815515</td>\n",
       "      <td>-41505.0</td>\n",
       "      <td>1.778375</td>\n",
       "      <td>0.641460</td>\n",
       "    </tr>\n",
       "    <tr>\n",
       "      <th>store</th>\n",
       "      <td>1.0</td>\n",
       "      <td>1115.0</td>\n",
       "      <td>558.421374</td>\n",
       "      <td>321.730861</td>\n",
       "      <td>-1114.0</td>\n",
       "      <td>-1.200524</td>\n",
       "      <td>-0.000955</td>\n",
       "    </tr>\n",
       "    <tr>\n",
       "      <th>promo_time_week</th>\n",
       "      <td>-126.0</td>\n",
       "      <td>313.0</td>\n",
       "      <td>54.400699</td>\n",
       "      <td>85.457559</td>\n",
       "      <td>-439.0</td>\n",
       "      <td>NaN</td>\n",
       "      <td>NaN</td>\n",
       "    </tr>\n",
       "    <tr>\n",
       "      <th>competition_time_month</th>\n",
       "      <td>-32.0</td>\n",
       "      <td>1407.0</td>\n",
       "      <td>41.679672</td>\n",
       "      <td>66.814412</td>\n",
       "      <td>-1439.0</td>\n",
       "      <td>NaN</td>\n",
       "      <td>NaN</td>\n",
       "    </tr>\n",
       "    <tr>\n",
       "      <th>week_of_year</th>\n",
       "      <td>1.0</td>\n",
       "      <td>52.0</td>\n",
       "      <td>23.646946</td>\n",
       "      <td>14.389931</td>\n",
       "      <td>-51.0</td>\n",
       "      <td>NaN</td>\n",
       "      <td>NaN</td>\n",
       "    </tr>\n",
       "    <tr>\n",
       "      <th>promo2_since_week</th>\n",
       "      <td>1.0</td>\n",
       "      <td>52.0</td>\n",
       "      <td>23.629083</td>\n",
       "      <td>14.288315</td>\n",
       "      <td>-51.0</td>\n",
       "      <td>-1.184046</td>\n",
       "      <td>0.178723</td>\n",
       "    </tr>\n",
       "    <tr>\n",
       "      <th>day</th>\n",
       "      <td>1.0</td>\n",
       "      <td>31.0</td>\n",
       "      <td>15.835706</td>\n",
       "      <td>8.683392</td>\n",
       "      <td>-30.0</td>\n",
       "      <td>NaN</td>\n",
       "      <td>NaN</td>\n",
       "    </tr>\n",
       "    <tr>\n",
       "      <th>competition_open_since_year</th>\n",
       "      <td>1900.0</td>\n",
       "      <td>2015.0</td>\n",
       "      <td>2010.331102</td>\n",
       "      <td>5.502628</td>\n",
       "      <td>-115.0</td>\n",
       "      <td>124.071304</td>\n",
       "      <td>-7.235657</td>\n",
       "    </tr>\n",
       "    <tr>\n",
       "      <th>month</th>\n",
       "      <td>1.0</td>\n",
       "      <td>12.0</td>\n",
       "      <td>5.845774</td>\n",
       "      <td>3.323959</td>\n",
       "      <td>-11.0</td>\n",
       "      <td>NaN</td>\n",
       "      <td>NaN</td>\n",
       "    </tr>\n",
       "    <tr>\n",
       "      <th>competition_open_since_month</th>\n",
       "      <td>1.0</td>\n",
       "      <td>12.0</td>\n",
       "      <td>6.787355</td>\n",
       "      <td>3.309917</td>\n",
       "      <td>-11.0</td>\n",
       "      <td>-1.232607</td>\n",
       "      <td>-0.042076</td>\n",
       "    </tr>\n",
       "    <tr>\n",
       "      <th>day_of_week</th>\n",
       "      <td>1.0</td>\n",
       "      <td>7.0</td>\n",
       "      <td>3.520350</td>\n",
       "      <td>1.723712</td>\n",
       "      <td>-6.0</td>\n",
       "      <td>-1.246873</td>\n",
       "      <td>0.001593</td>\n",
       "    </tr>\n",
       "    <tr>\n",
       "      <th>promo2_since_year</th>\n",
       "      <td>2009.0</td>\n",
       "      <td>2015.0</td>\n",
       "      <td>2012.797915</td>\n",
       "      <td>1.660125</td>\n",
       "      <td>-6.0</td>\n",
       "      <td>-0.210075</td>\n",
       "      <td>-0.784436</td>\n",
       "    </tr>\n",
       "    <tr>\n",
       "      <th>year</th>\n",
       "      <td>2013.0</td>\n",
       "      <td>2015.0</td>\n",
       "      <td>2013.831945</td>\n",
       "      <td>0.777271</td>\n",
       "      <td>-2.0</td>\n",
       "      <td>NaN</td>\n",
       "      <td>NaN</td>\n",
       "    </tr>\n",
       "    <tr>\n",
       "      <th>promo2</th>\n",
       "      <td>0.0</td>\n",
       "      <td>1.0</td>\n",
       "      <td>0.498670</td>\n",
       "      <td>0.499999</td>\n",
       "      <td>-1.0</td>\n",
       "      <td>-1.999999</td>\n",
       "      <td>-0.002255</td>\n",
       "    </tr>\n",
       "    <tr>\n",
       "      <th>promo</th>\n",
       "      <td>0.0</td>\n",
       "      <td>1.0</td>\n",
       "      <td>0.446356</td>\n",
       "      <td>0.497114</td>\n",
       "      <td>-1.0</td>\n",
       "      <td>-1.762018</td>\n",
       "      <td>0.487838</td>\n",
       "    </tr>\n",
       "    <tr>\n",
       "      <th>school_holiday</th>\n",
       "      <td>0.0</td>\n",
       "      <td>1.0</td>\n",
       "      <td>0.193578</td>\n",
       "      <td>0.395102</td>\n",
       "      <td>-1.0</td>\n",
       "      <td>0.815154</td>\n",
       "      <td>1.677842</td>\n",
       "    </tr>\n",
       "    <tr>\n",
       "      <th>is_promo</th>\n",
       "      <td>0.0</td>\n",
       "      <td>1.0</td>\n",
       "      <td>0.171984</td>\n",
       "      <td>0.377367</td>\n",
       "      <td>-1.0</td>\n",
       "      <td>1.027039</td>\n",
       "      <td>1.739838</td>\n",
       "    </tr>\n",
       "  </tbody>\n",
       "</table>\n",
       "</div>"
      ],
      "text/plain": [
       "                                 min       max         mean           std     range        kurt       skew\n",
       "competition_distance            20.0  200000.0  5961.827515  12592.181107 -199980.0  147.789712  10.242344\n",
       "sales                           46.0   41551.0  6955.959134   3103.815515  -41505.0    1.778375   0.641460\n",
       "store                            1.0    1115.0   558.421374    321.730861   -1114.0   -1.200524  -0.000955\n",
       "promo_time_week               -126.0     313.0    54.400699     85.457559    -439.0         NaN        NaN\n",
       "competition_time_month         -32.0    1407.0    41.679672     66.814412   -1439.0         NaN        NaN\n",
       "week_of_year                     1.0      52.0    23.646946     14.389931     -51.0         NaN        NaN\n",
       "promo2_since_week                1.0      52.0    23.629083     14.288315     -51.0   -1.184046   0.178723\n",
       "day                              1.0      31.0    15.835706      8.683392     -30.0         NaN        NaN\n",
       "competition_open_since_year   1900.0    2015.0  2010.331102      5.502628    -115.0  124.071304  -7.235657\n",
       "month                            1.0      12.0     5.845774      3.323959     -11.0         NaN        NaN\n",
       "competition_open_since_month     1.0      12.0     6.787355      3.309917     -11.0   -1.232607  -0.042076\n",
       "day_of_week                      1.0       7.0     3.520350      1.723712      -6.0   -1.246873   0.001593\n",
       "promo2_since_year             2009.0    2015.0  2012.797915      1.660125      -6.0   -0.210075  -0.784436\n",
       "year                          2013.0    2015.0  2013.831945      0.777271      -2.0         NaN        NaN\n",
       "promo2                           0.0       1.0     0.498670      0.499999      -1.0   -1.999999  -0.002255\n",
       "promo                            0.0       1.0     0.446356      0.497114      -1.0   -1.762018   0.487838\n",
       "school_holiday                   0.0       1.0     0.193578      0.395102      -1.0    0.815154   1.677842\n",
       "is_promo                         0.0       1.0     0.171984      0.377367      -1.0    1.027039   1.739838"
      ]
     },
     "execution_count": 27,
     "metadata": {},
     "output_type": "execute_result"
    }
   ],
   "source": [
    "df_aux = df5.select_dtypes(include=['int64', 'int32', 'float64'])\n",
    "\n",
    "df_aux = df_aux.describe().T[['min', 'max', 'mean', 'std']]\n",
    "range_ = df_aux['min'] - df_aux['max']\n",
    "kurt = num_attributes.kurt(axis=0)\n",
    "skew = num_attributes.skew(axis=0)\n",
    "\n",
    "df_aux['range'] = range_\n",
    "df_aux['kurt'] = kurt\n",
    "df_aux['skew'] = skew\n",
    "\n",
    "df_aux.sort_values('std', ascending=False)"
   ]
  },
  {
   "cell_type": "markdown",
   "id": "2f955397",
   "metadata": {
    "hidden": true
   },
   "source": [
    "We selected: \n",
    "'competition_distance', 'promo_time_week', 'competition_time_month', 'week_of_year', 'promo2_since_week'"
   ]
  },
  {
   "cell_type": "code",
   "execution_count": 28,
   "id": "57b7bb1e",
   "metadata": {
    "ExecuteTime": {
     "end_time": "2023-05-20T19:29:27.271729Z",
     "start_time": "2023-05-20T19:29:25.937145Z"
    },
    "hidden": true,
    "scrolled": true
   },
   "outputs": [
    {
     "data": {
      "image/png": "[encoded data removed]",
      "text/plain": [
       "<Figure size 1000x600 with 5 Axes>"
      ]
     },
     "metadata": {},
     "output_type": "display_data"
    }
   ],
   "source": [
    "plt.figure(figsize=(10,6))\n",
    "plt.subplot(5, 1, 1)\n",
    "sns.boxplot(data=df5, x='competition_distance');\n",
    "\n",
    "plt.subplot(5, 1, 2)\n",
    "sns.boxplot(data=df5, x='promo_time_week');\n",
    "\n",
    "plt.subplot(5, 1, 3)\n",
    "sns.boxplot(data=df5, x='competition_time_month');\n",
    "\n",
    "plt.subplot(5, 1, 4)\n",
    "sns.boxplot(data=df5, x='week_of_year');\n",
    "\n",
    "plt.subplot(5, 1, 5)\n",
    "sns.boxplot(data=df5, x='promo2_since_week');\n",
    "\n",
    "plt.tight_layout()"
   ]
  },
  {
   "cell_type": "markdown",
   "id": "15b7429a",
   "metadata": {
    "hidden": true
   },
   "source": [
    "After we see those grapics, we will use RobustScaler for 'competition_distance', 'promo_time_week', 'competition_time_month' because they have more outliers, and MinMaxScaler for 'week_of_year', 'promo2_since_week' because they have less outliers"
   ]
  },
  {
   "cell_type": "code",
   "execution_count": 29,
   "id": "004ea77f",
   "metadata": {
    "ExecuteTime": {
     "end_time": "2023-05-20T19:29:27.275458Z",
     "start_time": "2023-05-20T19:29:27.272731Z"
    },
    "hidden": true
   },
   "outputs": [],
   "source": [
    "rs = RobustScaler()\n",
    "mms = MinMaxScaler()"
   ]
  },
  {
   "cell_type": "code",
   "execution_count": 103,
   "id": "5a85b773",
   "metadata": {
    "ExecuteTime": {
     "end_time": "2023-05-20T20:56:03.161795Z",
     "start_time": "2023-05-20T20:56:03.036133Z"
    },
    "hidden": true
   },
   "outputs": [],
   "source": [
    "#RobustScaler\n",
    "#competition_distance\n",
    "df5['competition_distance'] = rs.fit_transform(df5[['competition_distance']].values)\n",
    "pickle.dump(rs, open('../parameters/competition_distance_scaler.pkl', 'wb'))\n",
    "\n",
    "#promo_time_week\n",
    "df5['promo_time_week'] = rs.fit_transform(df5[['promo_time_week']].values)\n",
    "pickle.dump(rs, open('../parameters/promo_time_week_scaler.pkl', 'wb'))\n",
    "\n",
    "#competition_time_month\n",
    "df5['competition_time_month'] = rs.fit_transform(df5[['competition_time_month']].values)\n",
    "pickle.dump(rs, open('../parameters/competition_time_month_scaler.pkl', 'wb'))\n",
    "\n",
    "#MinMaxScaler\n",
    "#week_of_year\n",
    "df5['week_of_year'] = mms.fit_transform(df5[['week_of_year']].values)\n",
    "pickle.dump(mms, open('../parameters/week_of_year_scaler.pkl', 'wb'))\n",
    "\n",
    "#promo2_since_week\n",
    "df5['promo2_since_week'] = mms.fit_transform(df5[['promo2_since_week']].values)\n",
    "pickle.dump(mms, open('../parameters/promo2_since_week_scaler.pkl', 'wb'))"
   ]
  },
  {
   "cell_type": "markdown",
   "id": "ef7b1eec",
   "metadata": {
    "hidden": true
   },
   "source": [
    "## 5.3 Transformation"
   ]
  },
  {
   "cell_type": "code",
   "execution_count": 31,
   "id": "80181c6d",
   "metadata": {
    "ExecuteTime": {
     "end_time": "2023-05-20T19:29:27.432469Z",
     "start_time": "2023-05-20T19:29:27.395209Z"
    },
    "hidden": true
   },
   "outputs": [
    {
     "data": {
      "text/plain": [
       "Index(['date', 'state_holiday', 'store_type', 'assortment', 'year_week',\n",
       "       'competition_since', 'promo_since'],\n",
       "      dtype='object')"
      ]
     },
     "execution_count": 31,
     "metadata": {},
     "output_type": "execute_result"
    }
   ],
   "source": [
    "# Let's see the features we have for enconding\n",
    "df_aux = df5.select_dtypes(exclude=['int64', 'int32', 'float64']).columns\n",
    "df_aux"
   ]
  },
  {
   "cell_type": "markdown",
   "id": "42350433",
   "metadata": {
    "hidden": true
   },
   "source": [
    "### 5.3.1 Encoding"
   ]
  },
  {
   "cell_type": "markdown",
   "id": "041e0f3f",
   "metadata": {
    "hidden": true
   },
   "source": [
    "Since 'date', 'year_week', 'competition_since' and 'promo_since' are cyclicar features, we will enconde 'state_holiday', 'store_type', 'assortment'"
   ]
  },
  {
   "cell_type": "code",
   "execution_count": 104,
   "id": "484df89e",
   "metadata": {
    "ExecuteTime": {
     "end_time": "2023-05-20T20:57:05.020245Z",
     "start_time": "2023-05-20T20:57:04.536189Z"
    },
    "hidden": true
   },
   "outputs": [],
   "source": [
    "#state_holiday - OneHotEnconder\n",
    "df5 = pd.get_dummies(df5, prefix=['state_holiday'], columns=['state_holiday'])\n",
    "\n",
    "#store_type\n",
    "le = LabelEncoder()\n",
    "df5['store_type'] = le.fit_transform(df5['store_type'])\n",
    "pickle.dump(le, open('../parameters/store_type_encoder.pkl', 'wb'))\n",
    "\n",
    "#assortment\n",
    "oe = OrdinalEncoder(categories=[['basic', 'extra', 'extended']])\n",
    "df5['assortment'] = oe.fit_transform(df5[['assortment']].values)\n",
    "pickle.dump(le, open('../parameters/assortment_encoder.pkl', 'wb'))"
   ]
  },
  {
   "cell_type": "markdown",
   "id": "c314508f",
   "metadata": {
    "hidden": true
   },
   "source": [
    "### 5.3.2 Response variable transformation"
   ]
  },
  {
   "cell_type": "code",
   "execution_count": 33,
   "id": "8f321adc",
   "metadata": {
    "ExecuteTime": {
     "end_time": "2023-05-20T19:29:27.938081Z",
     "start_time": "2023-05-20T19:29:27.923378Z"
    },
    "hidden": true
   },
   "outputs": [],
   "source": [
    "df5['sales'] = np.log1p(df5['sales'])"
   ]
  },
  {
   "cell_type": "markdown",
   "id": "559ff481",
   "metadata": {
    "hidden": true
   },
   "source": [
    "### 5.3.3 Cyclical features encoding"
   ]
  },
  {
   "cell_type": "code",
   "execution_count": 34,
   "id": "a8472f1a",
   "metadata": {
    "ExecuteTime": {
     "end_time": "2023-05-20T19:29:34.862461Z",
     "start_time": "2023-05-20T19:29:27.938769Z"
    },
    "hidden": true
   },
   "outputs": [],
   "source": [
    "#month\n",
    "df5['month_sin'] = df5['month'].apply(lambda x: np.sin(x * (2 * np.pi/12)))\n",
    "df5['month_cos'] = df5['month'].apply(lambda x: np.cos(x * (2 * np.pi/12)))\n",
    "\n",
    "#day\n",
    "df5['day_sin'] = df5['day'].apply(lambda x: np.sin(x * (2 * np.pi/30)))\n",
    "df5['day_cos'] = df5['day'].apply(lambda x: np.cos(x * (2 * np.pi/30)))\n",
    "\n",
    "\n",
    "#week of year\n",
    "df5['week_of_year_sin'] = df5['week_of_year'].apply(lambda x: np.sin(x * (2 * np.pi/52)))\n",
    "df5['week_of_year_cos'] = df5['week_of_year'].apply(lambda x: np.cos(x * (2 * np.pi/52)))\n",
    "\n",
    "#day of week\n",
    "df5['day_of_week_sin'] = df5['day_of_week'].apply(lambda x: np.sin(x * (2 * np.pi/7)))\n",
    "df5['day_of_week_cos'] = df5['day_of_week'].apply(lambda x: np.cos(x * (2 * np.pi/7)))"
   ]
  },
  {
   "cell_type": "code",
   "execution_count": 35,
   "id": "24c5cbe4",
   "metadata": {
    "ExecuteTime": {
     "end_time": "2023-05-20T19:29:34.889164Z",
     "start_time": "2023-05-20T19:29:34.863471Z"
    },
    "hidden": true
   },
   "outputs": [
    {
     "data": {
      "text/plain": [
       "Index(['date', 'year_week', 'competition_since', 'promo_since'], dtype='object')"
      ]
     },
     "execution_count": 35,
     "metadata": {},
     "output_type": "execute_result"
    }
   ],
   "source": [
    "df_aux = df5.select_dtypes(exclude=['int64', 'int32', 'float64', 'bool']).columns\n",
    "df_aux"
   ]
  },
  {
   "cell_type": "markdown",
   "id": "a182f4f8",
   "metadata": {
    "heading_collapsed": true
   },
   "source": [
    "# 6.0 Feature selection"
   ]
  },
  {
   "cell_type": "code",
   "execution_count": 36,
   "id": "c8ef1e51",
   "metadata": {
    "ExecuteTime": {
     "end_time": "2023-05-20T19:29:35.047875Z",
     "start_time": "2023-05-20T19:29:34.890170Z"
    },
    "hidden": true
   },
   "outputs": [],
   "source": [
    "df6 = df5.copy()"
   ]
  },
  {
   "cell_type": "code",
   "execution_count": 37,
   "id": "86e95101",
   "metadata": {
    "ExecuteTime": {
     "end_time": "2023-05-20T19:29:35.107830Z",
     "start_time": "2023-05-20T19:29:35.048184Z"
    },
    "hidden": true
   },
   "outputs": [],
   "source": [
    "cols_drop = ['week_of_year', 'day', 'month', 'day_of_week', 'promo_since','competition_since', 'year_week']\n",
    "df6 = df6.drop(cols_drop, axis=1)"
   ]
  },
  {
   "cell_type": "markdown",
   "id": "bd47aad1",
   "metadata": {
    "hidden": true
   },
   "source": [
    "## 6.1 Splitting dataframe"
   ]
  },
  {
   "cell_type": "code",
   "execution_count": 38,
   "id": "a1b0579e",
   "metadata": {
    "ExecuteTime": {
     "end_time": "2023-05-20T19:29:35.197558Z",
     "start_time": "2023-05-20T19:29:35.108982Z"
    },
    "hidden": true
   },
   "outputs": [
    {
     "name": "stdout",
     "output_type": "stream",
     "text": [
      "Training Min Date: 2013-01-01 00:00:00\n",
      "Training Max Date: 2015-06-18 00:00:00\n",
      "\n",
      "Test Min Date: 2015-06-19 00:00:00\n",
      "Test Max Date: 2015-07-31 00:00:00\n"
     ]
    }
   ],
   "source": [
    "# training dataset\n",
    "X_train = df6[df6['date'] < '2015-06-19']\n",
    "y_train = X_train['sales']\n",
    "\n",
    "# test dataset\n",
    "X_test = df6[df6['date'] >= '2015-06-19']\n",
    "y_test = X_test['sales']\n",
    "\n",
    "print( 'Training Min Date: {}'.format( X_train['date'].min() ))\n",
    "print( 'Training Max Date: {}'.format( X_train['date'].max() ))\n",
    "\n",
    "print( '\\nTest Min Date: {}'.format( X_test['date'].min() ))\n",
    "print( 'Test Max Date: {}'.format( X_test['date'].max() ))"
   ]
  },
  {
   "cell_type": "markdown",
   "id": "eb1a2e95",
   "metadata": {
    "ExecuteTime": {
     "end_time": "2023-05-19T00:39:17.666104Z",
     "start_time": "2023-05-19T00:39:17.663979Z"
    },
    "hidden": true
   },
   "source": [
    "## 6.2 Feature Selection - Select KBest"
   ]
  },
  {
   "cell_type": "code",
   "execution_count": 39,
   "id": "77f0d882",
   "metadata": {
    "ExecuteTime": {
     "end_time": "2023-05-20T19:29:35.214562Z",
     "start_time": "2023-05-20T19:29:35.199052Z"
    },
    "hidden": true
   },
   "outputs": [],
   "source": [
    "from sklearn.feature_selection import SelectKBest, f_regression"
   ]
  },
  {
   "cell_type": "code",
   "execution_count": 40,
   "id": "c963ede6",
   "metadata": {
    "ExecuteTime": {
     "end_time": "2023-05-20T19:29:35.219134Z",
     "start_time": "2023-05-20T19:29:35.215568Z"
    },
    "hidden": true
   },
   "outputs": [],
   "source": [
    "k_best = SelectKBest(f_regression, k=16)"
   ]
  },
  {
   "cell_type": "code",
   "execution_count": 41,
   "id": "fd35ddac",
   "metadata": {
    "ExecuteTime": {
     "end_time": "2023-05-20T19:29:35.275917Z",
     "start_time": "2023-05-20T19:29:35.221135Z"
    },
    "hidden": true
   },
   "outputs": [],
   "source": [
    "X_train_n = X_train.drop( ['date', 'sales'], axis=1 )\n",
    "X_test_n = X_test.drop( ['date', 'sales'], axis=1 )\n",
    "y_train_n = y_train"
   ]
  },
  {
   "cell_type": "code",
   "execution_count": 42,
   "id": "e905a704",
   "metadata": {
    "ExecuteTime": {
     "end_time": "2023-05-20T19:29:35.681938Z",
     "start_time": "2023-05-20T19:29:35.277427Z"
    },
    "hidden": true
   },
   "outputs": [],
   "source": [
    "X_train_best = k_best.fit_transform(X_train_n, y_train_n)"
   ]
  },
  {
   "cell_type": "code",
   "execution_count": 43,
   "id": "adfe5083",
   "metadata": {
    "ExecuteTime": {
     "end_time": "2023-05-20T19:29:35.696597Z",
     "start_time": "2023-05-20T19:29:35.682941Z"
    },
    "hidden": true
   },
   "outputs": [],
   "source": [
    "X_test_best = k_best.transform(X_test_n)"
   ]
  },
  {
   "cell_type": "code",
   "execution_count": 45,
   "id": "d8b79151",
   "metadata": {
    "ExecuteTime": {
     "end_time": "2023-05-20T19:30:10.390420Z",
     "start_time": "2023-05-20T19:30:10.386979Z"
    },
    "hidden": true
   },
   "outputs": [],
   "source": [
    "cols_kbest_raw = k_best.get_feature_names_out().tolist()"
   ]
  },
  {
   "cell_type": "code",
   "execution_count": 50,
   "id": "3ca52ff6",
   "metadata": {
    "ExecuteTime": {
     "end_time": "2023-05-20T19:31:18.427784Z",
     "start_time": "2023-05-20T19:31:18.424600Z"
    },
    "hidden": true
   },
   "outputs": [],
   "source": [
    "cols_kbest_raw = ['promo',\n",
    " 'school_holiday',\n",
    " 'store_type',\n",
    " 'assortment',\n",
    " 'competition_distance',\n",
    " 'promo2',\n",
    " 'promo2_since_week',\n",
    " 'promo2_since_year',\n",
    " 'is_promo',\n",
    " 'year',\n",
    " 'promo_time_week',\n",
    " 'day_sin',\n",
    " 'day_cos',\n",
    " 'week_of_year_sin',\n",
    " 'week_of_year_cos',\n",
    " 'day_of_week_sin']"
   ]
  },
  {
   "cell_type": "markdown",
   "id": "39995d5f",
   "metadata": {
    "hidden": true
   },
   "source": [
    "## 6.3 Manual feature selection"
   ]
  },
  {
   "cell_type": "code",
   "execution_count": 56,
   "id": "9abc1818",
   "metadata": {
    "ExecuteTime": {
     "end_time": "2023-05-20T19:35:11.721984Z",
     "start_time": "2023-05-20T19:35:11.718086Z"
    },
    "hidden": true
   },
   "outputs": [],
   "source": [
    "# We add day_of_week_cos because we already had day_of_week_sin selected by SelectKBest\n",
    "cols_kbest = ['store', 'promo',\n",
    " 'school_holiday',\n",
    " 'store_type',\n",
    " 'assortment',\n",
    " 'competition_distance',\n",
    " 'promo2',\n",
    " 'promo2_since_week',\n",
    " 'promo2_since_year',\n",
    " 'is_promo',\n",
    " 'year',\n",
    " 'promo_time_week',\n",
    " 'day_sin',\n",
    " 'day_cos',\n",
    " 'week_of_year_sin',\n",
    " 'week_of_year_cos',\n",
    " 'day_of_week_sin',\n",
    " 'day_of_week_cos']\n",
    "\n",
    "# columns to add - we will need them for cross validation furthermore\n",
    "feat_to_add = ['date', 'sales']\n",
    "\n",
    "cols_kbest_full = cols_kbest.copy()\n",
    "cols_kbest_full.extend( feat_to_add )"
   ]
  },
  {
   "cell_type": "markdown",
   "id": "0ea6b68d",
   "metadata": {
    "heading_collapsed": true
   },
   "source": [
    "# 7.0 Machine Learning Modelling"
   ]
  },
  {
   "cell_type": "code",
   "execution_count": 57,
   "id": "c6849e0e",
   "metadata": {
    "ExecuteTime": {
     "end_time": "2023-05-20T19:35:12.932797Z",
     "start_time": "2023-05-20T19:35:12.861749Z"
    },
    "hidden": true
   },
   "outputs": [],
   "source": [
    "x_train = X_train[cols_kbest]\n",
    "x_test =  X_test[cols_kbest]\n",
    "\n",
    "#time series preparation\n",
    "x_training = X_train[cols_kbest_full]"
   ]
  },
  {
   "cell_type": "markdown",
   "id": "e4a1c85e",
   "metadata": {
    "hidden": true
   },
   "source": [
    "## 7.1 Baseline model - Average"
   ]
  },
  {
   "cell_type": "code",
   "execution_count": 59,
   "id": "7614e297",
   "metadata": {
    "ExecuteTime": {
     "end_time": "2023-05-20T19:35:20.474711Z",
     "start_time": "2023-05-20T19:35:20.445923Z"
    },
    "hidden": true
   },
   "outputs": [
    {
     "data": {
      "text/html": [
       "<div>\n",
       "<style scoped>\n",
       "    .dataframe tbody tr th:only-of-type {\n",
       "        vertical-align: middle;\n",
       "    }\n",
       "\n",
       "    .dataframe tbody tr th {\n",
       "        vertical-align: top;\n",
       "    }\n",
       "\n",
       "    .dataframe thead th {\n",
       "        text-align: right;\n",
       "    }\n",
       "</style>\n",
       "<table border=\"1\" class=\"dataframe\">\n",
       "  <thead>\n",
       "    <tr style=\"text-align: right;\">\n",
       "      <th></th>\n",
       "      <th>Model Name</th>\n",
       "      <th>MAE</th>\n",
       "      <th>MAPE</th>\n",
       "      <th>RMSE</th>\n",
       "    </tr>\n",
       "  </thead>\n",
       "  <tbody>\n",
       "    <tr>\n",
       "      <th>0</th>\n",
       "      <td>Average Model</td>\n",
       "      <td>1354.800353</td>\n",
       "      <td>0.455051</td>\n",
       "      <td>1835.135542</td>\n",
       "    </tr>\n",
       "  </tbody>\n",
       "</table>\n",
       "</div>"
      ],
      "text/plain": [
       "      Model Name          MAE      MAPE         RMSE\n",
       "0  Average Model  1354.800353  0.455051  1835.135542"
      ]
     },
     "execution_count": 59,
     "metadata": {},
     "output_type": "execute_result"
    }
   ],
   "source": [
    "aux1 = x_test.copy()\n",
    "aux1['sales'] = y_test.copy()\n",
    "\n",
    "#prediction\n",
    "aux2 = aux1[['store', 'sales']].groupby('store').mean().reset_index().rename(columns={'sales': 'predictions'})\n",
    "\n",
    "aux1 = pd.merge(aux1, aux2, how='left', on='store')\n",
    "yhat_baseline = aux1['predictions']\n",
    "\n",
    "# performance\n",
    "baseline_result = ml_error( 'Average Model', np.expm1( y_test ), np.expm1(yhat_baseline ) )\n",
    "baseline_result"
   ]
  },
  {
   "cell_type": "markdown",
   "id": "8eb013ea",
   "metadata": {
    "hidden": true
   },
   "source": [
    "## 7.2 Linear regression model"
   ]
  },
  {
   "cell_type": "code",
   "execution_count": 60,
   "id": "61f25975",
   "metadata": {
    "ExecuteTime": {
     "end_time": "2023-05-20T19:35:25.995751Z",
     "start_time": "2023-05-20T19:35:25.322615Z"
    },
    "hidden": true
   },
   "outputs": [
    {
     "data": {
      "text/html": [
       "<div>\n",
       "<style scoped>\n",
       "    .dataframe tbody tr th:only-of-type {\n",
       "        vertical-align: middle;\n",
       "    }\n",
       "\n",
       "    .dataframe tbody tr th {\n",
       "        vertical-align: top;\n",
       "    }\n",
       "\n",
       "    .dataframe thead th {\n",
       "        text-align: right;\n",
       "    }\n",
       "</style>\n",
       "<table border=\"1\" class=\"dataframe\">\n",
       "  <thead>\n",
       "    <tr style=\"text-align: right;\">\n",
       "      <th></th>\n",
       "      <th>Model Name</th>\n",
       "      <th>MAE</th>\n",
       "      <th>MAPE</th>\n",
       "      <th>RMSE</th>\n",
       "    </tr>\n",
       "  </thead>\n",
       "  <tbody>\n",
       "    <tr>\n",
       "      <th>0</th>\n",
       "      <td>Linear Regression Model</td>\n",
       "      <td>1872.339851</td>\n",
       "      <td>0.294928</td>\n",
       "      <td>2672.654291</td>\n",
       "    </tr>\n",
       "  </tbody>\n",
       "</table>\n",
       "</div>"
      ],
      "text/plain": [
       "                Model Name          MAE      MAPE         RMSE\n",
       "0  Linear Regression Model  1872.339851  0.294928  2672.654291"
      ]
     },
     "execution_count": 60,
     "metadata": {},
     "output_type": "execute_result"
    }
   ],
   "source": [
    "#model\n",
    "lr = LinearRegression().fit(x_train, y_train)\n",
    "\n",
    "#prediction\n",
    "yhat_lr = lr.predict(x_test)\n",
    "\n",
    "#performance\n",
    "lr_result = ml_error('Linear Regression Model', np.expm1(y_test), np.expm1(yhat_lr))\n",
    "\n",
    "lr_result"
   ]
  },
  {
   "cell_type": "markdown",
   "id": "dbe49bc7",
   "metadata": {
    "hidden": true
   },
   "source": [
    "### 7.2.1 Linear regression model - Cross validation"
   ]
  },
  {
   "cell_type": "code",
   "execution_count": 61,
   "id": "e3fefec3",
   "metadata": {
    "ExecuteTime": {
     "end_time": "2023-05-20T19:35:33.419534Z",
     "start_time": "2023-05-20T19:35:30.234232Z"
    },
    "hidden": true
   },
   "outputs": [
    {
     "data": {
      "text/html": [
       "<div>\n",
       "<style scoped>\n",
       "    .dataframe tbody tr th:only-of-type {\n",
       "        vertical-align: middle;\n",
       "    }\n",
       "\n",
       "    .dataframe tbody tr th {\n",
       "        vertical-align: top;\n",
       "    }\n",
       "\n",
       "    .dataframe thead th {\n",
       "        text-align: right;\n",
       "    }\n",
       "</style>\n",
       "<table border=\"1\" class=\"dataframe\">\n",
       "  <thead>\n",
       "    <tr style=\"text-align: right;\">\n",
       "      <th></th>\n",
       "      <th>Model name</th>\n",
       "      <th>MAE CV</th>\n",
       "      <th>MAPE CV</th>\n",
       "      <th>RMSE CV</th>\n",
       "    </tr>\n",
       "  </thead>\n",
       "  <tbody>\n",
       "    <tr>\n",
       "      <th>0</th>\n",
       "      <td>Linear Regression</td>\n",
       "      <td>2077.67 +/- 283.49</td>\n",
       "      <td>0.29 +/- 0.01</td>\n",
       "      <td>2979.67 +/- 435.96</td>\n",
       "    </tr>\n",
       "  </tbody>\n",
       "</table>\n",
       "</div>"
      ],
      "text/plain": [
       "          Model name              MAE CV        MAPE CV             RMSE CV\n",
       "0  Linear Regression  2077.67 +/- 283.49  0.29 +/- 0.01  2979.67 +/- 435.96"
      ]
     },
     "execution_count": 61,
     "metadata": {},
     "output_type": "execute_result"
    }
   ],
   "source": [
    "lr_result_cv = cross_validation(x_training, 5, 'Linear Regression', lr, verbose=False)\n",
    "lr_result_cv"
   ]
  },
  {
   "cell_type": "markdown",
   "id": "982cca3f",
   "metadata": {
    "hidden": true
   },
   "source": [
    "## 7.3 Random Forest "
   ]
  },
  {
   "cell_type": "code",
   "execution_count": 62,
   "id": "a9d7a96a",
   "metadata": {
    "ExecuteTime": {
     "end_time": "2023-05-20T19:37:13.444551Z",
     "start_time": "2023-05-20T19:35:34.707038Z"
    },
    "hidden": true
   },
   "outputs": [
    {
     "data": {
      "text/html": [
       "<div>\n",
       "<style scoped>\n",
       "    .dataframe tbody tr th:only-of-type {\n",
       "        vertical-align: middle;\n",
       "    }\n",
       "\n",
       "    .dataframe tbody tr th {\n",
       "        vertical-align: top;\n",
       "    }\n",
       "\n",
       "    .dataframe thead th {\n",
       "        text-align: right;\n",
       "    }\n",
       "</style>\n",
       "<table border=\"1\" class=\"dataframe\">\n",
       "  <thead>\n",
       "    <tr style=\"text-align: right;\">\n",
       "      <th></th>\n",
       "      <th>Model Name</th>\n",
       "      <th>MAE</th>\n",
       "      <th>MAPE</th>\n",
       "      <th>RMSE</th>\n",
       "    </tr>\n",
       "  </thead>\n",
       "  <tbody>\n",
       "    <tr>\n",
       "      <th>0</th>\n",
       "      <td>Random Forest Regressor</td>\n",
       "      <td>689.941663</td>\n",
       "      <td>0.102309</td>\n",
       "      <td>1022.075802</td>\n",
       "    </tr>\n",
       "  </tbody>\n",
       "</table>\n",
       "</div>"
      ],
      "text/plain": [
       "                Model Name         MAE      MAPE         RMSE\n",
       "0  Random Forest Regressor  689.941663  0.102309  1022.075802"
      ]
     },
     "execution_count": 62,
     "metadata": {},
     "output_type": "execute_result"
    }
   ],
   "source": [
    "#model\n",
    "rf = RandomForestRegressor(n_estimators=100, n_jobs=-1, random_state=22).fit(x_train, y_train)\n",
    "\n",
    "#prediction\n",
    "yhat_rf = rf.predict(x_test)\n",
    "\n",
    "#performance\n",
    "rf_result = ml_error('Random Forest Regressor', np.expm1(y_test), np.expm1(yhat_rf))\n",
    "\n",
    "rf_result"
   ]
  },
  {
   "cell_type": "markdown",
   "id": "6d16ee76",
   "metadata": {
    "hidden": true
   },
   "source": [
    "### 7.4.1 Random Forest  - Cross validation"
   ]
  },
  {
   "cell_type": "code",
   "execution_count": 63,
   "id": "d3565bf3",
   "metadata": {
    "ExecuteTime": {
     "end_time": "2023-05-20T19:43:59.074285Z",
     "start_time": "2023-05-20T19:37:14.896152Z"
    },
    "hidden": true
   },
   "outputs": [
    {
     "name": "stdout",
     "output_type": "stream",
     "text": [
      "\n",
      "Kfold Number 5\n",
      "\n",
      "Kfold Number 4\n",
      "\n",
      "Kfold Number 3\n",
      "\n",
      "Kfold Number 2\n",
      "\n",
      "Kfold Number 1\n"
     ]
    },
    {
     "data": {
      "text/html": [
       "<div>\n",
       "<style scoped>\n",
       "    .dataframe tbody tr th:only-of-type {\n",
       "        vertical-align: middle;\n",
       "    }\n",
       "\n",
       "    .dataframe tbody tr th {\n",
       "        vertical-align: top;\n",
       "    }\n",
       "\n",
       "    .dataframe thead th {\n",
       "        text-align: right;\n",
       "    }\n",
       "</style>\n",
       "<table border=\"1\" class=\"dataframe\">\n",
       "  <thead>\n",
       "    <tr style=\"text-align: right;\">\n",
       "      <th></th>\n",
       "      <th>Model name</th>\n",
       "      <th>MAE CV</th>\n",
       "      <th>MAPE CV</th>\n",
       "      <th>RMSE CV</th>\n",
       "    </tr>\n",
       "  </thead>\n",
       "  <tbody>\n",
       "    <tr>\n",
       "      <th>0</th>\n",
       "      <td>Random Forest</td>\n",
       "      <td>804.73 +/- 185.4</td>\n",
       "      <td>0.11 +/- 0.02</td>\n",
       "      <td>1196.03 +/- 272.75</td>\n",
       "    </tr>\n",
       "  </tbody>\n",
       "</table>\n",
       "</div>"
      ],
      "text/plain": [
       "      Model name            MAE CV        MAPE CV             RMSE CV\n",
       "0  Random Forest  804.73 +/- 185.4  0.11 +/- 0.02  1196.03 +/- 272.75"
      ]
     },
     "execution_count": 63,
     "metadata": {},
     "output_type": "execute_result"
    }
   ],
   "source": [
    "rf_result_cv = cross_validation(x_training, 5, 'Random Forest', rf, verbose=True)\n",
    "rf_result_cv"
   ]
  },
  {
   "cell_type": "markdown",
   "id": "c9d39730",
   "metadata": {
    "hidden": true
   },
   "source": [
    "## 7.5 XGBoost Regrssor"
   ]
  },
  {
   "cell_type": "code",
   "execution_count": 64,
   "id": "ed4f4d66",
   "metadata": {
    "ExecuteTime": {
     "end_time": "2023-05-20T19:44:26.071377Z",
     "start_time": "2023-05-20T19:43:59.997261Z"
    },
    "hidden": true
   },
   "outputs": [
    {
     "data": {
      "text/html": [
       "<div>\n",
       "<style scoped>\n",
       "    .dataframe tbody tr th:only-of-type {\n",
       "        vertical-align: middle;\n",
       "    }\n",
       "\n",
       "    .dataframe tbody tr th {\n",
       "        vertical-align: top;\n",
       "    }\n",
       "\n",
       "    .dataframe thead th {\n",
       "        text-align: right;\n",
       "    }\n",
       "</style>\n",
       "<table border=\"1\" class=\"dataframe\">\n",
       "  <thead>\n",
       "    <tr style=\"text-align: right;\">\n",
       "      <th></th>\n",
       "      <th>Model Name</th>\n",
       "      <th>MAE</th>\n",
       "      <th>MAPE</th>\n",
       "      <th>RMSE</th>\n",
       "    </tr>\n",
       "  </thead>\n",
       "  <tbody>\n",
       "    <tr>\n",
       "      <th>0</th>\n",
       "      <td>XGB Regressor</td>\n",
       "      <td>729.254371</td>\n",
       "      <td>0.107676</td>\n",
       "      <td>1074.693209</td>\n",
       "    </tr>\n",
       "  </tbody>\n",
       "</table>\n",
       "</div>"
      ],
      "text/plain": [
       "      Model Name         MAE      MAPE         RMSE\n",
       "0  XGB Regressor  729.254371  0.107676  1074.693209"
      ]
     },
     "execution_count": 64,
     "metadata": {},
     "output_type": "execute_result"
    }
   ],
   "source": [
    "#model\n",
    "model_xgb = xgb.XGBRegressor(objective='reg:squarederror',\n",
    "                             n_estimators=100,\n",
    "                             eta=0.1,\n",
    "                             max_depth=10,\n",
    "                             subsample=0.7,\n",
    "                             colsample_bytree=0.9).fit(x_train, y_train)\n",
    "\n",
    "#prediction\n",
    "yhat_xgb = rf.predict(x_test)\n",
    "\n",
    "#performance\n",
    "xgb_result = ml_error('XGB Regressor', np.expm1(y_test), np.expm1(yhat_xgb))\n",
    "\n",
    "xgb_result"
   ]
  },
  {
   "cell_type": "markdown",
   "id": "a2c36428",
   "metadata": {
    "hidden": true
   },
   "source": [
    "### 7.5.1 XGBoost Regressor - Cross Validation"
   ]
  },
  {
   "cell_type": "code",
   "execution_count": 65,
   "id": "72be26af",
   "metadata": {
    "ExecuteTime": {
     "end_time": "2023-05-20T19:46:18.325034Z",
     "start_time": "2023-05-20T19:44:26.899804Z"
    },
    "hidden": true
   },
   "outputs": [
    {
     "name": "stdout",
     "output_type": "stream",
     "text": [
      "\n",
      "Kfold Number 5\n",
      "\n",
      "Kfold Number 4\n",
      "\n",
      "Kfold Number 3\n",
      "\n",
      "Kfold Number 2\n",
      "\n",
      "Kfold Number 1\n"
     ]
    },
    {
     "data": {
      "text/html": [
       "<div>\n",
       "<style scoped>\n",
       "    .dataframe tbody tr th:only-of-type {\n",
       "        vertical-align: middle;\n",
       "    }\n",
       "\n",
       "    .dataframe tbody tr th {\n",
       "        vertical-align: top;\n",
       "    }\n",
       "\n",
       "    .dataframe thead th {\n",
       "        text-align: right;\n",
       "    }\n",
       "</style>\n",
       "<table border=\"1\" class=\"dataframe\">\n",
       "  <thead>\n",
       "    <tr style=\"text-align: right;\">\n",
       "      <th></th>\n",
       "      <th>Model name</th>\n",
       "      <th>MAE CV</th>\n",
       "      <th>MAPE CV</th>\n",
       "      <th>RMSE CV</th>\n",
       "    </tr>\n",
       "  </thead>\n",
       "  <tbody>\n",
       "    <tr>\n",
       "      <th>0</th>\n",
       "      <td>XGB Regressor</td>\n",
       "      <td>1079.85 +/- 162.9</td>\n",
       "      <td>0.15 +/- 0.01</td>\n",
       "      <td>1557.28 +/- 229.63</td>\n",
       "    </tr>\n",
       "  </tbody>\n",
       "</table>\n",
       "</div>"
      ],
      "text/plain": [
       "      Model name             MAE CV        MAPE CV             RMSE CV\n",
       "0  XGB Regressor  1079.85 +/- 162.9  0.15 +/- 0.01  1557.28 +/- 229.63"
      ]
     },
     "execution_count": 65,
     "metadata": {},
     "output_type": "execute_result"
    }
   ],
   "source": [
    "xgb_result_cv = cross_validation(x_training, 5, 'XGB Regressor', model_xgb, verbose=True)\n",
    "xgb_result_cv"
   ]
  },
  {
   "cell_type": "markdown",
   "id": "86a14494",
   "metadata": {
    "hidden": true
   },
   "source": [
    "## 7.6 Compare Model's Performance\n"
   ]
  },
  {
   "cell_type": "markdown",
   "id": "a1273085",
   "metadata": {
    "hidden": true
   },
   "source": [
    "### 7.6.1 Single performance"
   ]
  },
  {
   "cell_type": "code",
   "execution_count": 66,
   "id": "7aa3b684",
   "metadata": {
    "ExecuteTime": {
     "end_time": "2023-05-20T19:46:19.301990Z",
     "start_time": "2023-05-20T19:46:19.293076Z"
    },
    "hidden": true
   },
   "outputs": [
    {
     "data": {
      "text/html": [
       "<div>\n",
       "<style scoped>\n",
       "    .dataframe tbody tr th:only-of-type {\n",
       "        vertical-align: middle;\n",
       "    }\n",
       "\n",
       "    .dataframe tbody tr th {\n",
       "        vertical-align: top;\n",
       "    }\n",
       "\n",
       "    .dataframe thead th {\n",
       "        text-align: right;\n",
       "    }\n",
       "</style>\n",
       "<table border=\"1\" class=\"dataframe\">\n",
       "  <thead>\n",
       "    <tr style=\"text-align: right;\">\n",
       "      <th></th>\n",
       "      <th>Model Name</th>\n",
       "      <th>MAE</th>\n",
       "      <th>MAPE</th>\n",
       "      <th>RMSE</th>\n",
       "    </tr>\n",
       "  </thead>\n",
       "  <tbody>\n",
       "    <tr>\n",
       "      <th>0</th>\n",
       "      <td>Random Forest Regressor</td>\n",
       "      <td>689.941663</td>\n",
       "      <td>0.102309</td>\n",
       "      <td>1022.075802</td>\n",
       "    </tr>\n",
       "    <tr>\n",
       "      <th>0</th>\n",
       "      <td>XGB Regressor</td>\n",
       "      <td>729.254371</td>\n",
       "      <td>0.107676</td>\n",
       "      <td>1074.693209</td>\n",
       "    </tr>\n",
       "    <tr>\n",
       "      <th>0</th>\n",
       "      <td>Average Model</td>\n",
       "      <td>1354.800353</td>\n",
       "      <td>0.455051</td>\n",
       "      <td>1835.135542</td>\n",
       "    </tr>\n",
       "    <tr>\n",
       "      <th>0</th>\n",
       "      <td>Linear Regression Model</td>\n",
       "      <td>1872.339851</td>\n",
       "      <td>0.294928</td>\n",
       "      <td>2672.654291</td>\n",
       "    </tr>\n",
       "  </tbody>\n",
       "</table>\n",
       "</div>"
      ],
      "text/plain": [
       "                Model Name          MAE      MAPE         RMSE\n",
       "0  Random Forest Regressor   689.941663  0.102309  1022.075802\n",
       "0            XGB Regressor   729.254371  0.107676  1074.693209\n",
       "0            Average Model  1354.800353  0.455051  1835.135542\n",
       "0  Linear Regression Model  1872.339851  0.294928  2672.654291"
      ]
     },
     "execution_count": 66,
     "metadata": {},
     "output_type": "execute_result"
    }
   ],
   "source": [
    "modelling_result = pd.concat( [baseline_result, lr_result, rf_result, xgb_result] )\n",
    "modelling_result.sort_values( 'RMSE' )"
   ]
  },
  {
   "cell_type": "markdown",
   "id": "f418349f",
   "metadata": {
    "hidden": true
   },
   "source": [
    "### 7.6.2 Real performance - Cross validation"
   ]
  },
  {
   "cell_type": "code",
   "execution_count": 67,
   "id": "ae609b20",
   "metadata": {
    "ExecuteTime": {
     "end_time": "2023-05-20T19:46:20.171641Z",
     "start_time": "2023-05-20T19:46:20.164876Z"
    },
    "hidden": true
   },
   "outputs": [
    {
     "data": {
      "text/html": [
       "<div>\n",
       "<style scoped>\n",
       "    .dataframe tbody tr th:only-of-type {\n",
       "        vertical-align: middle;\n",
       "    }\n",
       "\n",
       "    .dataframe tbody tr th {\n",
       "        vertical-align: top;\n",
       "    }\n",
       "\n",
       "    .dataframe thead th {\n",
       "        text-align: right;\n",
       "    }\n",
       "</style>\n",
       "<table border=\"1\" class=\"dataframe\">\n",
       "  <thead>\n",
       "    <tr style=\"text-align: right;\">\n",
       "      <th></th>\n",
       "      <th>Model name</th>\n",
       "      <th>MAE CV</th>\n",
       "      <th>MAPE CV</th>\n",
       "      <th>RMSE CV</th>\n",
       "    </tr>\n",
       "  </thead>\n",
       "  <tbody>\n",
       "    <tr>\n",
       "      <th>0</th>\n",
       "      <td>Random Forest</td>\n",
       "      <td>804.73 +/- 185.4</td>\n",
       "      <td>0.11 +/- 0.02</td>\n",
       "      <td>1196.03 +/- 272.75</td>\n",
       "    </tr>\n",
       "    <tr>\n",
       "      <th>0</th>\n",
       "      <td>XGB Regressor</td>\n",
       "      <td>1079.85 +/- 162.9</td>\n",
       "      <td>0.15 +/- 0.01</td>\n",
       "      <td>1557.28 +/- 229.63</td>\n",
       "    </tr>\n",
       "    <tr>\n",
       "      <th>0</th>\n",
       "      <td>Linear Regression</td>\n",
       "      <td>2077.67 +/- 283.49</td>\n",
       "      <td>0.29 +/- 0.01</td>\n",
       "      <td>2979.67 +/- 435.96</td>\n",
       "    </tr>\n",
       "  </tbody>\n",
       "</table>\n",
       "</div>"
      ],
      "text/plain": [
       "          Model name              MAE CV        MAPE CV             RMSE CV\n",
       "0      Random Forest    804.73 +/- 185.4  0.11 +/- 0.02  1196.03 +/- 272.75\n",
       "0      XGB Regressor   1079.85 +/- 162.9  0.15 +/- 0.01  1557.28 +/- 229.63\n",
       "0  Linear Regression  2077.67 +/- 283.49  0.29 +/- 0.01  2979.67 +/- 435.96"
      ]
     },
     "execution_count": 67,
     "metadata": {},
     "output_type": "execute_result"
    }
   ],
   "source": [
    "modelling_result_cv = pd.concat( [lr_result_cv, rf_result_cv, xgb_result_cv] )\n",
    "modelling_result_cv.sort_values( 'RMSE CV' )"
   ]
  },
  {
   "cell_type": "markdown",
   "id": "c55a4924",
   "metadata": {
    "heading_collapsed": true
   },
   "source": [
    "# 8.0 Hyperparameter Fine Tuning"
   ]
  },
  {
   "cell_type": "markdown",
   "id": "4e2bbe10",
   "metadata": {
    "hidden": true
   },
   "source": [
    "## 8.1 Random search"
   ]
  },
  {
   "cell_type": "code",
   "execution_count": 58,
   "id": "25b838d0",
   "metadata": {
    "ExecuteTime": {
     "end_time": "2023-05-05T03:07:28.336186Z",
     "start_time": "2023-05-05T03:07:28.333366Z"
    },
    "hidden": true
   },
   "outputs": [],
   "source": [
    "#param = {\n",
    "#    'n_estimators': [1500, 1700, 2000, 2500, 3000, 3500],\n",
    "#    'eta': [0.01, 0.02, 0.03],\n",
    "#    'max_depth': [3, 5, 9],\n",
    "#    'subsample': [0.1, 0.5, 0.7],\n",
    "#    'colsample_bytree': [0.3, 0.7, 0.9],\n",
    "#    'min_child_weight': [3, 8, 15]    \n",
    "#}\n",
    "#MAX_EVAL = 5"
   ]
  },
  {
   "cell_type": "code",
   "execution_count": 59,
   "id": "fba81c57",
   "metadata": {
    "ExecuteTime": {
     "end_time": "2023-05-05T03:07:29.238316Z",
     "start_time": "2023-05-05T03:07:29.234732Z"
    },
    "hidden": true
   },
   "outputs": [],
   "source": [
    "#final_result = pd.DataFrame()\n",
    "\n",
    "#for i in range(MAX_EVAL):\n",
    "#    #choose values for parameters randomly\n",
    "#    hp = {k: random.sample(v,1)[0] for k, v in param.items()}\n",
    "#    print(hp)\n",
    "#    \n",
    "#    # model\n",
    "#    \n",
    "#    model_xgb = xgb.XGBRegressor(objective='reg:squarederror',\n",
    "#                            n_estimators=hp['n_estimators'],\n",
    "#                             eta=hp['eta'],\n",
    "#                             max_depth=hp['max_depth'],\n",
    "#                             subsample=hp['subsample'],\n",
    "#                             colsample_bytree=hp['colsample_bytree'])\n",
    "#    \n",
    "#    # performance\n",
    "#    result = cross_validation(x_training, 5, 'XGBoost Regressor', model_xgb, verbose=True)\n",
    "#    \n",
    "#    final_result = pd.concat([final_result, result])\n",
    "#\n",
    "#final_result"
   ]
  },
  {
   "cell_type": "markdown",
   "id": "1d6c0235",
   "metadata": {
    "hidden": true
   },
   "source": [
    "## 8.2 - Final model"
   ]
  },
  {
   "cell_type": "code",
   "execution_count": 68,
   "id": "d310bc40",
   "metadata": {
    "ExecuteTime": {
     "end_time": "2023-05-20T19:53:12.025350Z",
     "start_time": "2023-05-20T19:47:23.323055Z"
    },
    "hidden": true
   },
   "outputs": [
    {
     "data": {
      "text/html": [
       "<div>\n",
       "<style scoped>\n",
       "    .dataframe tbody tr th:only-of-type {\n",
       "        vertical-align: middle;\n",
       "    }\n",
       "\n",
       "    .dataframe tbody tr th {\n",
       "        vertical-align: top;\n",
       "    }\n",
       "\n",
       "    .dataframe thead th {\n",
       "        text-align: right;\n",
       "    }\n",
       "</style>\n",
       "<table border=\"1\" class=\"dataframe\">\n",
       "  <thead>\n",
       "    <tr style=\"text-align: right;\">\n",
       "      <th></th>\n",
       "      <th>Model Name</th>\n",
       "      <th>MAE</th>\n",
       "      <th>MAPE</th>\n",
       "      <th>RMSE</th>\n",
       "    </tr>\n",
       "  </thead>\n",
       "  <tbody>\n",
       "    <tr>\n",
       "      <th>0</th>\n",
       "      <td>XGBoost Regressor</td>\n",
       "      <td>774.716316</td>\n",
       "      <td>0.11695</td>\n",
       "      <td>1117.396832</td>\n",
       "    </tr>\n",
       "  </tbody>\n",
       "</table>\n",
       "</div>"
      ],
      "text/plain": [
       "          Model Name         MAE     MAPE         RMSE\n",
       "0  XGBoost Regressor  774.716316  0.11695  1117.396832"
      ]
     },
     "execution_count": 68,
     "metadata": {},
     "output_type": "execute_result"
    }
   ],
   "source": [
    "param_tuned = {\n",
    "    'n_estimators': 3000,\n",
    "    'eta': 0.03,\n",
    "    'max_depth': 5,\n",
    "    'subsample': 0.7,\n",
    "    'colsample_bytree': 0.7,\n",
    "    'min_child_weight': 3,\n",
    "}\n",
    "\n",
    "model_xgb_tuned = xgb.XGBRegressor(objective='reg:squarederror',\n",
    "                             n_estimators=param_tuned['n_estimators'],\n",
    "                             eta=param_tuned['eta'],\n",
    "                             max_depth=param_tuned['max_depth'],\n",
    "                             subsample=param_tuned['subsample'],\n",
    "                             colsample_bytree=param_tuned['colsample_bytree'],\n",
    "                            min_child_weight=param_tuned['min_child_weight']).fit(x_train, y_train)\n",
    "    \n",
    "# prediction\n",
    "yhat_xgb_tuned = model_xgb_tuned.predict(x_test)\n",
    "\n",
    "# performance\n",
    "xgb_result_tuned = ml_error('XGBoost Regressor', np.expm1(y_test), np.expm1(yhat_xgb_tuned))\n",
    "\n",
    "xgb_result_tuned\n"
   ]
  },
  {
   "cell_type": "code",
   "execution_count": 69,
   "id": "b6b3cbab",
   "metadata": {
    "ExecuteTime": {
     "end_time": "2023-05-20T19:53:12.903057Z",
     "start_time": "2023-05-20T19:53:12.897418Z"
    },
    "hidden": true
   },
   "outputs": [
    {
     "data": {
      "text/plain": [
       "-0.0175751229651615"
      ]
     },
     "execution_count": 69,
     "metadata": {},
     "output_type": "execute_result"
    }
   ],
   "source": [
    "mpe = mean_percentage_error( np.expm1( y_test ), np.expm1( yhat_xgb_tuned ) )\n",
    "mpe"
   ]
  },
  {
   "cell_type": "markdown",
   "id": "fbf0193b",
   "metadata": {
    "heading_collapsed": true
   },
   "source": [
    "# 9.0 Error analysis"
   ]
  },
  {
   "cell_type": "code",
   "execution_count": 80,
   "id": "2ea7698b",
   "metadata": {
    "ExecuteTime": {
     "end_time": "2023-05-20T20:06:08.201649Z",
     "start_time": "2023-05-20T20:06:08.192158Z"
    },
    "hidden": true
   },
   "outputs": [],
   "source": [
    "df9 = X_test[cols_kbest_full].copy()\n",
    "\n",
    "# rescale\n",
    "df9.loc[:,'sales'] = np.expm1(df9['sales'])\n",
    "df9['predictions'] = np.expm1(yhat_xgb_tuned)\n"
   ]
  },
  {
   "cell_type": "markdown",
   "id": "472ffbfd",
   "metadata": {
    "hidden": true
   },
   "source": [
    "## 9.1 Business performance"
   ]
  },
  {
   "cell_type": "code",
   "execution_count": 81,
   "id": "94bb1bc7",
   "metadata": {
    "ExecuteTime": {
     "end_time": "2023-05-20T20:06:34.248552Z",
     "start_time": "2023-05-20T20:06:33.515581Z"
    },
    "hidden": true
   },
   "outputs": [],
   "source": [
    "# sum of predictions\n",
    "df91 = df9[['store', 'predictions']].groupby('store').sum().reset_index()\n",
    "\n",
    "# MAE and MAPE\n",
    "df9_aux1 = df9[['store', 'sales', 'predictions']].groupby('store').apply(lambda x: mean_absolute_error(x['sales'], x['predictions'])).reset_index().rename( columns={0:'MAE'})\n",
    "df9_aux2 = df9[['store', 'sales', 'predictions']].groupby('store').apply(lambda x: mean_absolute_percentage_error(x['sales'], x['predictions'])).reset_index().rename( columns={0:'MAPE'})\n",
    "\n",
    "# Merge\n",
    "df9_aux3 = pd.merge(df9_aux1, df9_aux2, how='inner', on='store')\n",
    "df92 = pd.merge( df91, df9_aux3, how='inner', on='store' )\n",
    "\n",
    "# Scenarios\n",
    "df92['worst_scenario'] = df92['predictions'] - df92['MAE']\n",
    "df92['best_scenario'] = df92['predictions'] + df92['MAE']\n",
    "# order columns\n",
    "df92 = df92[['store', 'predictions', 'worst_scenario', 'best_scenario', 'MAE','MAPE']]\n"
   ]
  },
  {
   "cell_type": "code",
   "execution_count": 83,
   "id": "55633f4c",
   "metadata": {
    "ExecuteTime": {
     "end_time": "2023-05-20T20:07:19.755562Z",
     "start_time": "2023-05-20T20:07:19.747148Z"
    },
    "hidden": true
   },
   "outputs": [
    {
     "data": {
      "text/html": [
       "<div>\n",
       "<style scoped>\n",
       "    .dataframe tbody tr th:only-of-type {\n",
       "        vertical-align: middle;\n",
       "    }\n",
       "\n",
       "    .dataframe tbody tr th {\n",
       "        vertical-align: top;\n",
       "    }\n",
       "\n",
       "    .dataframe thead th {\n",
       "        text-align: right;\n",
       "    }\n",
       "</style>\n",
       "<table border=\"1\" class=\"dataframe\">\n",
       "  <thead>\n",
       "    <tr style=\"text-align: right;\">\n",
       "      <th></th>\n",
       "      <th>store</th>\n",
       "      <th>predictions</th>\n",
       "      <th>worst_scenario</th>\n",
       "      <th>best_scenario</th>\n",
       "      <th>MAE</th>\n",
       "      <th>MAPE</th>\n",
       "    </tr>\n",
       "  </thead>\n",
       "  <tbody>\n",
       "    <tr>\n",
       "      <th>732</th>\n",
       "      <td>733</td>\n",
       "      <td>625663.625000</td>\n",
       "      <td>624915.770894</td>\n",
       "      <td>626411.479106</td>\n",
       "      <td>747.854106</td>\n",
       "      <td>0.049899</td>\n",
       "    </tr>\n",
       "    <tr>\n",
       "      <th>1066</th>\n",
       "      <td>1067</td>\n",
       "      <td>223747.218750</td>\n",
       "      <td>223402.270191</td>\n",
       "      <td>224092.167309</td>\n",
       "      <td>344.948559</td>\n",
       "      <td>0.055745</td>\n",
       "    </tr>\n",
       "    <tr>\n",
       "      <th>762</th>\n",
       "      <td>763</td>\n",
       "      <td>234915.671875</td>\n",
       "      <td>234557.478436</td>\n",
       "      <td>235273.865314</td>\n",
       "      <td>358.193439</td>\n",
       "      <td>0.058377</td>\n",
       "    </tr>\n",
       "    <tr>\n",
       "      <th>725</th>\n",
       "      <td>726</td>\n",
       "      <td>402067.312500</td>\n",
       "      <td>401438.648160</td>\n",
       "      <td>402695.976840</td>\n",
       "      <td>628.664340</td>\n",
       "      <td>0.058645</td>\n",
       "    </tr>\n",
       "    <tr>\n",
       "      <th>254</th>\n",
       "      <td>255</td>\n",
       "      <td>232305.203125</td>\n",
       "      <td>231914.650879</td>\n",
       "      <td>232695.755371</td>\n",
       "      <td>390.552246</td>\n",
       "      <td>0.060007</td>\n",
       "    </tr>\n",
       "  </tbody>\n",
       "</table>\n",
       "</div>"
      ],
      "text/plain": [
       "      store    predictions  worst_scenario  best_scenario         MAE      MAPE\n",
       "732     733  625663.625000   624915.770894  626411.479106  747.854106  0.049899\n",
       "1066   1067  223747.218750   223402.270191  224092.167309  344.948559  0.055745\n",
       "762     763  234915.671875   234557.478436  235273.865314  358.193439  0.058377\n",
       "725     726  402067.312500   401438.648160  402695.976840  628.664340  0.058645\n",
       "254     255  232305.203125   231914.650879  232695.755371  390.552246  0.060007"
      ]
     },
     "execution_count": 83,
     "metadata": {},
     "output_type": "execute_result"
    }
   ],
   "source": [
    "df92.sort_values( 'MAPE', ascending=False ).head()"
   ]
  },
  {
   "cell_type": "code",
   "execution_count": 85,
   "id": "20589098",
   "metadata": {
    "ExecuteTime": {
     "end_time": "2023-05-20T20:07:39.847838Z",
     "start_time": "2023-05-20T20:07:39.614696Z"
    },
    "hidden": true
   },
   "outputs": [
    {
     "data": {
      "image/png": "[encoded data removed]",
      "text/plain": [
       "<Figure size 1200x800 with 1 Axes>"
      ]
     },
     "metadata": {},
     "output_type": "display_data"
    }
   ],
   "source": [
    "sns.scatterplot( x='store', y='MAPE', data=df92 );"
   ]
  },
  {
   "cell_type": "markdown",
   "id": "b48d0b01",
   "metadata": {
    "hidden": true
   },
   "source": [
    "## 9.2 Total performance"
   ]
  },
  {
   "cell_type": "code",
   "execution_count": 89,
   "id": "f15df909",
   "metadata": {
    "ExecuteTime": {
     "end_time": "2023-05-20T20:09:46.981463Z",
     "start_time": "2023-05-20T20:09:46.973012Z"
    },
    "hidden": true
   },
   "outputs": [
    {
     "data": {
      "text/html": [
       "<div>\n",
       "<style scoped>\n",
       "    .dataframe tbody tr th:only-of-type {\n",
       "        vertical-align: middle;\n",
       "    }\n",
       "\n",
       "    .dataframe tbody tr th {\n",
       "        vertical-align: top;\n",
       "    }\n",
       "\n",
       "    .dataframe thead th {\n",
       "        text-align: right;\n",
       "    }\n",
       "</style>\n",
       "<table border=\"1\" class=\"dataframe\">\n",
       "  <thead>\n",
       "    <tr style=\"text-align: right;\">\n",
       "      <th></th>\n",
       "      <th>Scenario</th>\n",
       "      <th>Values</th>\n",
       "    </tr>\n",
       "  </thead>\n",
       "  <tbody>\n",
       "    <tr>\n",
       "      <th>0</th>\n",
       "      <td>predictions</td>\n",
       "      <td>$285,297,856.00</td>\n",
       "    </tr>\n",
       "    <tr>\n",
       "      <th>1</th>\n",
       "      <td>worst_scenario</td>\n",
       "      <td>$284,430,724.03</td>\n",
       "    </tr>\n",
       "    <tr>\n",
       "      <th>2</th>\n",
       "      <td>best_scenario</td>\n",
       "      <td>$286,164,951.37</td>\n",
       "    </tr>\n",
       "  </tbody>\n",
       "</table>\n",
       "</div>"
      ],
      "text/plain": [
       "         Scenario           Values\n",
       "0     predictions  $285,297,856.00\n",
       "1  worst_scenario  $284,430,724.03\n",
       "2   best_scenario  $286,164,951.37"
      ]
     },
     "execution_count": 89,
     "metadata": {},
     "output_type": "execute_result"
    }
   ],
   "source": [
    "df93 = df92[['predictions', 'worst_scenario', 'best_scenario']].apply(lambda x: np.sum(x), axis=0).reset_index().rename(columns={'index': 'Scenario', 0:'Values'})\n",
    "df93['Values'] = df93['Values'].map( '${:,.2f}'.format )\n",
    "df93"
   ]
  },
  {
   "cell_type": "markdown",
   "id": "516f55c8",
   "metadata": {
    "hidden": true
   },
   "source": [
    "## 9.3 Machine learning perfomance"
   ]
  },
  {
   "cell_type": "code",
   "execution_count": 90,
   "id": "c9d4bbe3",
   "metadata": {
    "ExecuteTime": {
     "end_time": "2023-05-20T20:10:43.602741Z",
     "start_time": "2023-05-20T20:10:43.599069Z"
    },
    "hidden": true
   },
   "outputs": [],
   "source": [
    "df9['error'] = df9['sales'] - df9['predictions']\n",
    "df9['error_rate'] = df9['predictions'] / df9['sales']"
   ]
  },
  {
   "cell_type": "code",
   "execution_count": 97,
   "id": "a496e494",
   "metadata": {
    "ExecuteTime": {
     "end_time": "2023-05-20T20:17:25.302448Z",
     "start_time": "2023-05-20T20:17:19.468647Z"
    },
    "hidden": true
   },
   "outputs": [
    {
     "data": {
      "text/plain": [
       "<Axes: xlabel='predictions', ylabel='error'>"
      ]
     },
     "execution_count": 97,
     "metadata": {},
     "output_type": "execute_result"
    },
    {
     "data": {
      "image/png": "[encoded data removed]",
      "text/plain": [
       "<Figure size 1200x800 with 4 Axes>"
      ]
     },
     "metadata": {},
     "output_type": "display_data"
    }
   ],
   "source": [
    "plt.subplot( 2, 2, 1 )\n",
    "sns.lineplot(x='date', y='sales', data=df9, label='SALES')\n",
    "sns.lineplot(x='date', y='predictions', data=df9, label='PREDICTIONS')\n",
    "\n",
    "plt.subplot( 2, 2, 2 )\n",
    "sns.lineplot(x='date', y='error_rate', data=df9)\n",
    "plt.axhline( 1, linestyle='--')\n",
    "\n",
    "plt.subplot( 2, 2, 3 )\n",
    "sns.histplot(df9['error'])\n",
    "\n",
    "plt.subplot( 2, 2, 4 )\n",
    "sns.scatterplot(x='predictions', y='error', data=df9)"
   ]
  },
  {
   "cell_type": "markdown",
   "id": "592e56b9",
   "metadata": {},
   "source": [
    "# 10.0 Deploy model to production"
   ]
  },
  {
   "cell_type": "code",
   "execution_count": 100,
   "id": "47bef7da",
   "metadata": {
    "ExecuteTime": {
     "end_time": "2023-05-20T20:28:10.069247Z",
     "start_time": "2023-05-20T20:28:09.999181Z"
    }
   },
   "outputs": [],
   "source": [
    "pickle.dump(model_xgb_tuned, open('../models/model_rossmann_xgb_1.pkl', 'wb'))"
   ]
  },
  {
   "cell_type": "markdown",
   "id": "a2b09b3c",
   "metadata": {},
   "source": [
    "## 10.1 Rossmann Class"
   ]
  },
  {
   "cell_type": "code",
   "execution_count": 105,
   "id": "883ad727",
   "metadata": {
    "ExecuteTime": {
     "end_time": "2023-05-20T21:44:52.185697Z",
     "start_time": "2023-05-20T21:44:52.162307Z"
    }
   },
   "outputs": [],
   "source": [
    "import pickle\n",
    "import inflection\n",
    "import pandas as pd\n",
    "import numpy as np\n",
    "import math\n",
    "\n",
    "\n",
    "class Rossmann(object):\n",
    "    def __init__(self):\n",
    "        # self.home_path = \n",
    "        self.competition_distance_scaler   = pickle.load(open('../parameters/competition_distance_scaler.pkl', 'rb'))\n",
    "        self.promo_time_week_scaler        = pickle.load(open('../parameters/promo_time_week_scaler.pkl', 'rb'))\n",
    "        self.competition_time_month_scaler = pickle.load(open('../parameters/competition_time_month_scaler.pkl', 'rb'))\n",
    "        self.week_of_year_scaler           = pickle.load(open('../parameters/week_of_year_scaler.pkl', 'rb'))\n",
    "        self.promo2_since_week_scaler      = pickle.load(open('../parameters/promo2_since_week_scaler.pkl', 'rb'))\n",
    "        self.store_type_encoder            = pickle.load(open('../parameters/store_type_encoder.pkl', 'rb'))\n",
    "        self.assortment_encoder            = pickle.load(open('../parameters/assortment_encoder.pkl', 'rb'))\n",
    "\n",
    "        \n",
    "    def data_cleaning(self, df1):\n",
    "\n",
    "        ## 1.1 Rename columns\n",
    "\n",
    "        # Using the function we created in section 0.1\n",
    "        df1 = rename_columns(df1)\n",
    "\n",
    "        ## 1.3 Data types\n",
    "\n",
    "        #Changing the type to date\n",
    "        df1['date'] = pd.to_datetime(df1['date'])\n",
    "\n",
    "        ## 1.5 Fillout NA \n",
    "\n",
    "        # Dealing the columns with NaNs\n",
    "\n",
    "        # competition_distance - imputting 200000 distance for nan values\n",
    "        df1['competition_distance'] = df1['competition_distance'].apply(lambda x: 200000 if np.isnan(x) else x)\n",
    "\n",
    "        # competition_open_since_month - imputting the month of register for competition open\n",
    "        df1['competition_open_since_month'] = df1[['date', 'competition_open_since_month']].apply(lambda x: x['date'].month if np.isnan(x['competition_open_since_month']) else x['competition_open_since_month'], axis=1)\n",
    "\n",
    "        # competition_open_since_year - imptting the year of register for competition open  \n",
    "        df1['competition_open_since_year'] = df1[['date', 'competition_open_since_year']].apply(lambda x: x['date'].year if math.isnan(x['competition_open_since_year']) else x['competition_open_since_year'], axis=1)\n",
    "\n",
    "\n",
    "        # promo2_since_week - imputting the week of register for promo since\n",
    "        df1['promo2_since_week'] = df1[['date', 'promo2_since_week']].apply(lambda x: x['date'].week if np.isnan(x['promo2_since_week']) else x['promo2_since_week'], axis=1)\n",
    "\n",
    "        # promo2_since_year - imputting the year of register for promo since\n",
    "        df1['promo2_since_year'] = df1[['date', 'promo2_since_year']].apply(lambda x: x['date'].year if np.isnan(x['promo2_since_year']) else x['promo2_since_year'], axis=1)\n",
    "\n",
    "\n",
    "        # promo_interval - imputting zero for promo interval\n",
    "        df1['promo_interval'] = df1['promo_interval'].fillna(0)\n",
    "\n",
    "        # Creating month map, then creating a column with the name of the month to check if there is a promo during the time or not\n",
    "        month_map = {1:'Jan', 2:'Feb', 3:'Mar', 4:'Apr', 5:'May', 6:'Jun', 7:'Jul', 8:'Aug', 9:'Sept', 10:'Oct', 11:'Nov', 12:'Dec'}\n",
    "\n",
    "        df1['month_map'] = df1['date'].dt.month.map(month_map)\n",
    "\n",
    "        df1['is_promo'] = df1[['promo_interval', 'month_map']].apply(lambda x: 0 if x['promo_interval'] == 0 else 1 if x['month_map'] in x['promo_interval'].split(',') else 0, axis=1)\n",
    "\n",
    "\n",
    "        ## 1.6 Change Types\n",
    "\n",
    "        df1['competition_open_since_month'] = df1['competition_open_since_month'].astype('int64')\n",
    "        df1['competition_open_since_year'] = df1['competition_open_since_year'].astype('int64')\n",
    "\n",
    "        df1['promo2_since_week'] = df1['promo2_since_week'].astype('int64')\n",
    "        df1['promo2_since_year'] = df1['promo2_since_year'].astype('int64')\n",
    "    \n",
    "        return df1\n",
    "\n",
    "    def feature_engineering(self, df2):\n",
    "        \n",
    "        #year\n",
    "        df2['year'] = df2['date'].dt.year\n",
    "\n",
    "        #month\n",
    "        df2['month'] = df2['date'].dt.month\n",
    "\n",
    "        #day\n",
    "        df2['day'] = df2['date'].dt.day\n",
    "\n",
    "        #week of year\n",
    "        df2['week_of_year'] = df2['date'].dt.isocalendar().week.astype(int)\n",
    "\n",
    "        #year week\n",
    "        df2['year_week'] = df2['date'].dt.strftime('%Y-%W')\n",
    "\n",
    "        #competition since\n",
    "        df2['competition_since'] = df2.apply(lambda x: datetime.datetime(year=x['competition_open_since_year'], month=x['competition_open_since_month'], day=1), axis=1)\n",
    "        df2['competition_time_month'] = ((df2['date'] - df2['competition_since']) / 30).apply(lambda x: x.days).astype(int)\n",
    "\n",
    "        #promo since\n",
    "        df2['promo_since'] = df2['promo2_since_year'].astype(str) + '-' + df2['promo2_since_week'].astype(str)\n",
    "        df2['promo_since'] = df2['promo_since'].apply(lambda x: datetime.datetime.strptime(x + '-1', '%Y-%W-%w') - datetime.timedelta(days=7) )\n",
    "\n",
    "        # promo time week = date - promo since/7 (pega dia)\n",
    "        df2['promo_time_week'] = ((df2['date'] - df2['promo_since'])/7).apply(lambda x: x.days).astype(int)\n",
    "\n",
    "        #assortment\n",
    "        df2['assortment'] = df2['assortment'].apply(lambda x: 'basic' if x=='a' else 'extra' if x=='b' else 'extended')\n",
    "\n",
    "        #state holiday\n",
    "        df2['state_holiday'] = df2['state_holiday'].apply(lambda x: 'public_holiday' if x=='a' else 'easter_holiday' if x=='b' else 'christmas' if x=='c' else 'regular_day')\n",
    "\n",
    "        # 3.0 Feature filtering\n",
    "\n",
    "        ## 3.1 Filtragem das linhas\n",
    "\n",
    "        # Selecting only the days we have sales and the days the stores are open\n",
    "        df2 = df2[(df2['sales'] > 0) & (df2['open'] != 0)]\n",
    "\n",
    "        ## 3.2 Seleção das colunas\n",
    "\n",
    "        # Dropping columns customers (we can't know customers will be in the stores in following days), open (we already filter for only open stores), promo interval and month map only used to create is_promo, so we don't need them\n",
    "        cols_drop = ['customers', 'open', 'promo_interval', 'month_map']\n",
    "        df2 = df2.drop(cols_drop, axis=1)\n",
    "    \n",
    "        return df2\n",
    "\n",
    "    def data_preparation(self, df5):\n",
    "        \n",
    "        ## 5.2 Rescaling\n",
    "\n",
    "        #RobustScaler\n",
    "        #competition_distance\n",
    "        df5['competition_distance'] = self.competition_distance_scaler.fit_transform(df5[['competition_distance']].values)\n",
    "\n",
    "        #promo_time_week\n",
    "        df5['promo_time_week'] = self.promo_time_week_scaler.fit_transform(df5[['promo_time_week']].values)\n",
    "        \n",
    "\n",
    "        #competition_time_month\n",
    "        df5['competition_time_month'] = self.competition_time_month_scaler.fit_transform(df5[['competition_time_month']].values)\n",
    "        \n",
    "        #MinMaxScaler\n",
    "        #week_of_year\n",
    "        df5['week_of_year'] = self.week_of_year_scaler.fit_transform(df5[['week_of_year']].values)\n",
    "        \n",
    "\n",
    "        #promo2_since_week\n",
    "        df5['promo2_since_week'] = self.promo2_since_week_scaler.fit_transform(df5[['promo2_since_week']].values)\n",
    "        \n",
    "        \n",
    "        ## 5.3 Transformation\n",
    "        ### 5.3.1 Encoding\n",
    "        \n",
    "        #state_holiday - OneHotEnconder\n",
    "        df5 = pd.get_dummies(df5, prefix=['state_holiday'], columns=['state_holiday'])\n",
    "\n",
    "        #store_type\n",
    "        df5['store_type'] = self.store_type_encoder.fit_transform(df5['store_type'])\n",
    "        \n",
    "\n",
    "        #assortment\n",
    "        df5['assortment'] = self.assortment_encoder.fit_transform(df5[['assortment']].values)\n",
    "\n",
    "        ### 5.3.3 Cyclical features encoding\n",
    "\n",
    "        #month\n",
    "        df5['month_sin'] = df5['month'].apply(lambda x: np.sin(x * (2 * np.pi/12)))\n",
    "        df5['month_cos'] = df5['month'].apply(lambda x: np.cos(x * (2 * np.pi/12)))\n",
    "\n",
    "        #day\n",
    "        df5['day_sin'] = df5['day'].apply(lambda x: np.sin(x * (2 * np.pi/30)))\n",
    "        df5['day_cos'] = df5['day'].apply(lambda x: np.cos(x * (2 * np.pi/30)))\n",
    "\n",
    "\n",
    "        #week of year\n",
    "        df5['week_of_year_sin'] = df5['week_of_year'].apply(lambda x: np.sin(x * (2 * np.pi/52)))\n",
    "        df5['week_of_year_cos'] = df5['week_of_year'].apply(lambda x: np.cos(x * (2 * np.pi/52)))\n",
    "\n",
    "        #day of week\n",
    "        df5['day_of_week_sin'] = df5['day_of_week'].apply(lambda x: np.sin(x * (2 * np.pi/7)))\n",
    "        df5['day_of_week_cos'] = df5['day_of_week'].apply(lambda x: np.cos(x * (2 * np.pi/7)))\n",
    "        \n",
    "        cols_selected = ['store', 'promo','school_holiday', 'store_type', 'assortment', 'competition_distance', 'promo2', 'promo2_since_week', 'promo2_since_year', 'is_promo', 'year', 'promo_time_week', 'day_sin', \n",
    "                         'day_cos', 'week_of_year_sin', 'week_of_year_cos', 'day_of_week_sin', 'day_of_week_cos']\n",
    "\n",
    "        return df5[cols_selected]\n",
    "    \n",
    "    def get_prediction(self, model, original_data, test_data):\n",
    "        # prediction\n",
    "        pred = model.predict(test_data)\n",
    "        \n",
    "        # join pred into the original data\n",
    "        original_data['prediction'] = np.expm1(pred)\n",
    "        \n",
    "        return original_data.to_json(orient='records', date_format='iso')\n",
    "    "
   ]
  },
  {
   "cell_type": "code",
   "execution_count": null,
   "id": "16f0d57b",
   "metadata": {},
   "outputs": [],
   "source": []
  },
  {
   "cell_type": "markdown",
   "id": "9366a310",
   "metadata": {},
   "source": [
    "## 10.2 API Handler"
   ]
  },
  {
   "cell_type": "code",
   "execution_count": 109,
   "id": "a58ff7b0",
   "metadata": {
    "ExecuteTime": {
     "end_time": "2023-05-20T22:09:03.798082Z",
     "start_time": "2023-05-20T22:09:03.775653Z"
    }
   },
   "outputs": [
    {
     "ename": "ModuleNotFoundError",
     "evalue": "No module named 'rossmann'",
     "output_type": "error",
     "traceback": [
      "\u001b[1;31m---------------------------------------------------------------------------\u001b[0m",
      "\u001b[1;31mModuleNotFoundError\u001b[0m                       Traceback (most recent call last)",
      "Cell \u001b[1;32mIn[109], line 4\u001b[0m\n\u001b[0;32m      2\u001b[0m \u001b[38;5;28;01mimport\u001b[39;00m \u001b[38;5;21;01mpandas\u001b[39;00m \u001b[38;5;28;01mas\u001b[39;00m \u001b[38;5;21;01mpd\u001b[39;00m\n\u001b[0;32m      3\u001b[0m \u001b[38;5;28;01mfrom\u001b[39;00m \u001b[38;5;21;01mflask\u001b[39;00m \u001b[38;5;28;01mimport\u001b[39;00m Flask, request, Response\n\u001b[1;32m----> 4\u001b[0m \u001b[38;5;28;01mfrom\u001b[39;00m \u001b[38;5;21;01mrossmann\u001b[39;00m\u001b[38;5;21;01m.\u001b[39;00m\u001b[38;5;21;01mRossmann\u001b[39;00m \u001b[38;5;28;01mimport\u001b[39;00m Rossmann\n\u001b[0;32m      6\u001b[0m \u001b[38;5;66;03m# loading model\u001b[39;00m\n\u001b[0;32m      7\u001b[0m model \u001b[38;5;241m=\u001b[39m pickle\u001b[38;5;241m.\u001b[39mload(\u001b[38;5;28mopen\u001b[39m(\u001b[38;5;124m'\u001b[39m\u001b[38;5;124m../models/model_rossmann_xgb_1.pkl\u001b[39m\u001b[38;5;124m'\u001b[39m, \u001b[38;5;124m'\u001b[39m\u001b[38;5;124mrb\u001b[39m\u001b[38;5;124m'\u001b[39m))\n",
      "\u001b[1;31mModuleNotFoundError\u001b[0m: No module named 'rossmann'"
     ]
    }
   ],
   "source": [
    "import pickle\n",
    "import pandas as pd\n",
    "from flask import Flask, request, Response\n",
    "from rossmann.Rossmann import Rossmann\n",
    "\n",
    "# loading model\n",
    "model = pickle.load(open('../models/model_rossmann_xgb_1.pkl', 'rb'))\n",
    "\n",
    "app = Flask(__name__)\n",
    "\n",
    "@app.route('/rossmann/predict/', methods=['POST'])\n",
    "def rossmann_predict():\n",
    "    test_json = request.get_json()\n",
    "    \n",
    "    if test_json:\n",
    "        if isinstance(test_json, dict):\n",
    "            test_raw = pd.DataFrame(test_json, index=[0])\n",
    "        else:\n",
    "            test_raw = pd.DataFrame(test_json, columns=test_json[0].keys())\n",
    "            \n",
    "        # Instantiate Rossmann Class\n",
    "        pipeline = Rossmann()\n",
    "        \n",
    "        # data cleaning\n",
    "        df1 = pipeline.data_cleaning(test_raw)\n",
    "        \n",
    "        # feature engineering\n",
    "        df2 = pipieline.feature_engineering(df1)\n",
    "        \n",
    "        # data preparation\n",
    "        df3 = pipeline.data_preparation(df2)\n",
    "        \n",
    "        # prediction\n",
    "        df_response = pipeline.get_prediction(model, test_raw, df3)\n",
    "        \n",
    "    else:\n",
    "        return Response('{}', status=200, mimetype='application/json')\n",
    "\n",
    "if __name__ == '__main__':\n",
    "    app.run('0.0.0.0')"
   ]
  },
  {
   "cell_type": "markdown",
   "id": "b2a9b399",
   "metadata": {},
   "source": [
    "## 10.3 API Tester"
   ]
  },
  {
   "cell_type": "code",
   "execution_count": 6,
   "id": "ef018db6",
   "metadata": {
    "ExecuteTime": {
     "end_time": "2023-05-20T22:57:16.011577Z",
     "start_time": "2023-05-20T22:57:15.937382Z"
    }
   },
   "outputs": [],
   "source": [
    "import requests"
   ]
  },
  {
   "cell_type": "code",
   "execution_count": 34,
   "id": "7c7ac745",
   "metadata": {
    "ExecuteTime": {
     "end_time": "2023-05-20T23:46:40.356496Z",
     "start_time": "2023-05-20T23:46:40.328970Z"
    }
   },
   "outputs": [],
   "source": [
    "df10 = pd.read_csv('../data/test.csv')"
   ]
  },
  {
   "cell_type": "code",
   "execution_count": 35,
   "id": "3566bdd4",
   "metadata": {
    "ExecuteTime": {
     "end_time": "2023-05-20T23:46:40.810369Z",
     "start_time": "2023-05-20T23:46:40.794347Z"
    }
   },
   "outputs": [],
   "source": [
    "# merge test dataset\n",
    "df_test = pd.merge(df10, df_raw_2, how='left', on='Store')\n",
    "\n",
    "# choose store for prediction\n",
    "df_test = df_test[df_test['Store'] == 22]\n",
    "\n",
    "# remove closed days\n",
    "df_test = df_test[df_test['Open'] != 0]\n",
    "df_test = df_test[~df_test['Open'].isnull()]\n",
    "df_test = df_test.drop('Id', axis=1)"
   ]
  },
  {
   "cell_type": "code",
   "execution_count": 36,
   "id": "98b298e5",
   "metadata": {
    "ExecuteTime": {
     "end_time": "2023-05-20T23:46:42.320684Z",
     "start_time": "2023-05-20T23:46:42.315698Z"
    }
   },
   "outputs": [],
   "source": [
    "# convert Dataframe to json\n",
    "data = json.dumps(df_test.to_dict(orient='records'))"
   ]
  },
  {
   "cell_type": "code",
   "execution_count": 50,
   "id": "519fa20e",
   "metadata": {
    "ExecuteTime": {
     "end_time": "2023-05-21T00:48:19.283564Z",
     "start_time": "2023-05-21T00:48:19.218084Z"
    }
   },
   "outputs": [
    {
     "name": "stdout",
     "output_type": "stream",
     "text": [
      "Status Code 200\n"
     ]
    }
   ],
   "source": [
    "# API Call\n",
    "url = 'http://127.0.0.1:5000/rossmann/predict'\n",
    "header = {'Content-type': 'application/json'}\n",
    "data = data\n",
    "\n",
    "r = requests.post(url, data=data, headers=header)\n",
    "print('Status Code {}'.format(r.status_code))"
   ]
  },
  {
   "cell_type": "code",
   "execution_count": 51,
   "id": "26c9604c",
   "metadata": {
    "ExecuteTime": {
     "end_time": "2023-05-21T00:48:20.797404Z",
     "start_time": "2023-05-21T00:48:20.793356Z"
    }
   },
   "outputs": [],
   "source": [
    "d1 = pd.DataFrame(r.json(), columns=r.json()[0].keys())"
   ]
  },
  {
   "cell_type": "code",
   "execution_count": 53,
   "id": "c4a4214b",
   "metadata": {
    "ExecuteTime": {
     "end_time": "2023-05-21T00:51:13.490560Z",
     "start_time": "2023-05-21T00:51:13.478370Z"
    }
   },
   "outputs": [
    {
     "data": {
      "text/html": [
       "<div>\n",
       "<style scoped>\n",
       "    .dataframe tbody tr th:only-of-type {\n",
       "        vertical-align: middle;\n",
       "    }\n",
       "\n",
       "    .dataframe tbody tr th {\n",
       "        vertical-align: top;\n",
       "    }\n",
       "\n",
       "    .dataframe thead th {\n",
       "        text-align: right;\n",
       "    }\n",
       "</style>\n",
       "<table border=\"1\" class=\"dataframe\">\n",
       "  <thead>\n",
       "    <tr style=\"text-align: right;\">\n",
       "      <th></th>\n",
       "      <th>store</th>\n",
       "      <th>promo</th>\n",
       "      <th>school_holiday</th>\n",
       "      <th>store_type</th>\n",
       "      <th>assortment</th>\n",
       "      <th>competition_distance</th>\n",
       "      <th>promo2</th>\n",
       "      <th>promo2_since_week</th>\n",
       "      <th>promo2_since_year</th>\n",
       "      <th>is_promo</th>\n",
       "      <th>year</th>\n",
       "      <th>promo_time_week</th>\n",
       "      <th>day_sin</th>\n",
       "      <th>day_cos</th>\n",
       "      <th>week_of_year_sin</th>\n",
       "      <th>week_of_year_cos</th>\n",
       "      <th>day_of_week_sin</th>\n",
       "      <th>day_of_week_cos</th>\n",
       "      <th>prediction</th>\n",
       "    </tr>\n",
       "  </thead>\n",
       "  <tbody>\n",
       "    <tr>\n",
       "      <th>0</th>\n",
       "      <td>22</td>\n",
       "      <td>1</td>\n",
       "      <td>0</td>\n",
       "      <td>0</td>\n",
       "      <td>0</td>\n",
       "      <td>0.0</td>\n",
       "      <td>1</td>\n",
       "      <td>0.0</td>\n",
       "      <td>2012</td>\n",
       "      <td>0</td>\n",
       "      <td>2015</td>\n",
       "      <td>0.923077</td>\n",
       "      <td>-4.067366e-01</td>\n",
       "      <td>-0.913545</td>\n",
       "      <td>0.120537</td>\n",
       "      <td>0.992709</td>\n",
       "      <td>-0.433884</td>\n",
       "      <td>-0.900969</td>\n",
       "      <td>7177.167969</td>\n",
       "    </tr>\n",
       "    <tr>\n",
       "      <th>1</th>\n",
       "      <td>22</td>\n",
       "      <td>1</td>\n",
       "      <td>0</td>\n",
       "      <td>0</td>\n",
       "      <td>0</td>\n",
       "      <td>0.0</td>\n",
       "      <td>1</td>\n",
       "      <td>0.0</td>\n",
       "      <td>2012</td>\n",
       "      <td>0</td>\n",
       "      <td>2015</td>\n",
       "      <td>0.923077</td>\n",
       "      <td>-2.079117e-01</td>\n",
       "      <td>-0.978148</td>\n",
       "      <td>0.120537</td>\n",
       "      <td>0.992709</td>\n",
       "      <td>0.433884</td>\n",
       "      <td>-0.900969</td>\n",
       "      <td>7302.595215</td>\n",
       "    </tr>\n",
       "    <tr>\n",
       "      <th>2</th>\n",
       "      <td>22</td>\n",
       "      <td>1</td>\n",
       "      <td>0</td>\n",
       "      <td>0</td>\n",
       "      <td>0</td>\n",
       "      <td>0.0</td>\n",
       "      <td>1</td>\n",
       "      <td>0.0</td>\n",
       "      <td>2012</td>\n",
       "      <td>0</td>\n",
       "      <td>2015</td>\n",
       "      <td>0.923077</td>\n",
       "      <td>1.224647e-16</td>\n",
       "      <td>-1.000000</td>\n",
       "      <td>0.120537</td>\n",
       "      <td>0.992709</td>\n",
       "      <td>0.974928</td>\n",
       "      <td>-0.222521</td>\n",
       "      <td>7994.691406</td>\n",
       "    </tr>\n",
       "    <tr>\n",
       "      <th>3</th>\n",
       "      <td>22</td>\n",
       "      <td>1</td>\n",
       "      <td>1</td>\n",
       "      <td>0</td>\n",
       "      <td>0</td>\n",
       "      <td>0.0</td>\n",
       "      <td>1</td>\n",
       "      <td>0.0</td>\n",
       "      <td>2012</td>\n",
       "      <td>0</td>\n",
       "      <td>2015</td>\n",
       "      <td>0.923077</td>\n",
       "      <td>2.079117e-01</td>\n",
       "      <td>-0.978148</td>\n",
       "      <td>0.120537</td>\n",
       "      <td>0.992709</td>\n",
       "      <td>0.781831</td>\n",
       "      <td>0.623490</td>\n",
       "      <td>9783.779297</td>\n",
       "    </tr>\n",
       "    <tr>\n",
       "      <th>4</th>\n",
       "      <td>22</td>\n",
       "      <td>0</td>\n",
       "      <td>0</td>\n",
       "      <td>0</td>\n",
       "      <td>0</td>\n",
       "      <td>0.0</td>\n",
       "      <td>1</td>\n",
       "      <td>0.0</td>\n",
       "      <td>2012</td>\n",
       "      <td>0</td>\n",
       "      <td>2015</td>\n",
       "      <td>0.615385</td>\n",
       "      <td>5.877853e-01</td>\n",
       "      <td>-0.809017</td>\n",
       "      <td>0.103384</td>\n",
       "      <td>0.994642</td>\n",
       "      <td>-0.781831</td>\n",
       "      <td>0.623490</td>\n",
       "      <td>3227.774170</td>\n",
       "    </tr>\n",
       "  </tbody>\n",
       "</table>\n",
       "</div>"
      ],
      "text/plain": [
       "   store  promo  school_holiday  store_type  assortment  competition_distance  promo2  promo2_since_week  promo2_since_year  is_promo  year  promo_time_week       day_sin   day_cos  week_of_year_sin  week_of_year_cos  day_of_week_sin  day_of_week_cos   prediction\n",
       "0     22      1               0           0           0                   0.0       1                0.0               2012         0  2015         0.923077 -4.067366e-01 -0.913545          0.120537          0.992709        -0.433884        -0.900969  7177.167969\n",
       "1     22      1               0           0           0                   0.0       1                0.0               2012         0  2015         0.923077 -2.079117e-01 -0.978148          0.120537          0.992709         0.433884        -0.900969  7302.595215\n",
       "2     22      1               0           0           0                   0.0       1                0.0               2012         0  2015         0.923077  1.224647e-16 -1.000000          0.120537          0.992709         0.974928        -0.222521  7994.691406\n",
       "3     22      1               1           0           0                   0.0       1                0.0               2012         0  2015         0.923077  2.079117e-01 -0.978148          0.120537          0.992709         0.781831         0.623490  9783.779297\n",
       "4     22      0               0           0           0                   0.0       1                0.0               2012         0  2015         0.615385  5.877853e-01 -0.809017          0.103384          0.994642        -0.781831         0.623490  3227.774170"
      ]
     },
     "execution_count": 53,
     "metadata": {},
     "output_type": "execute_result"
    }
   ],
   "source": [
    "d1.head()"
   ]
  },
  {
   "cell_type": "code",
   "execution_count": 40,
   "id": "f4bde36d",
   "metadata": {
    "ExecuteTime": {
     "end_time": "2023-05-20T23:46:50.156195Z",
     "start_time": "2023-05-20T23:46:50.151312Z"
    }
   },
   "outputs": [],
   "source": [
    "d2 = d1[['Store', 'prediction']].groupby('Store').sum().reset_index()"
   ]
  },
  {
   "cell_type": "code",
   "execution_count": 41,
   "id": "359b887c",
   "metadata": {
    "ExecuteTime": {
     "end_time": "2023-05-20T23:46:50.585500Z",
     "start_time": "2023-05-20T23:46:50.580453Z"
    }
   },
   "outputs": [
    {
     "data": {
      "text/html": [
       "<div>\n",
       "<style scoped>\n",
       "    .dataframe tbody tr th:only-of-type {\n",
       "        vertical-align: middle;\n",
       "    }\n",
       "\n",
       "    .dataframe tbody tr th {\n",
       "        vertical-align: top;\n",
       "    }\n",
       "\n",
       "    .dataframe thead th {\n",
       "        text-align: right;\n",
       "    }\n",
       "</style>\n",
       "<table border=\"1\" class=\"dataframe\">\n",
       "  <thead>\n",
       "    <tr style=\"text-align: right;\">\n",
       "      <th></th>\n",
       "      <th>Store</th>\n",
       "      <th>prediction</th>\n",
       "    </tr>\n",
       "  </thead>\n",
       "  <tbody>\n",
       "    <tr>\n",
       "      <th>0</th>\n",
       "      <td>22</td>\n",
       "      <td>194289.872803</td>\n",
       "    </tr>\n",
       "  </tbody>\n",
       "</table>\n",
       "</div>"
      ],
      "text/plain": [
       "   Store     prediction\n",
       "0     22  194289.872803"
      ]
     },
     "execution_count": 41,
     "metadata": {},
     "output_type": "execute_result"
    }
   ],
   "source": [
    "d2"
   ]
  },
  {
   "cell_type": "code",
   "execution_count": 43,
   "id": "633ec656",
   "metadata": {
    "ExecuteTime": {
     "end_time": "2023-05-20T23:58:13.014629Z",
     "start_time": "2023-05-20T23:58:13.009427Z"
    }
   },
   "outputs": [
    {
     "data": {
      "text/plain": [
       "'[{\"Store\": 22, \"DayOfWeek\": 4, \"Date\": \"2015-09-17\", \"Open\": 1.0, \"Promo\": 1, \"StateHoliday\": \"0\", \"SchoolHoliday\": 0, \"StoreType\": \"a\", \"Assortment\": \"a\", \"CompetitionDistance\": 1040.0, \"CompetitionOpenSinceMonth\": NaN, \"CompetitionOpenSinceYear\": NaN, \"Promo2\": 1, \"Promo2SinceWeek\": 22.0, \"Promo2SinceYear\": 2012.0, \"PromoInterval\": \"Jan,Apr,Jul,Oct\"}, {\"Store\": 22, \"DayOfWeek\": 3, \"Date\": \"2015-09-16\", \"Open\": 1.0, \"Promo\": 1, \"StateHoliday\": \"0\", \"SchoolHoliday\": 0, \"StoreType\": \"a\", \"Assortment\": \"a\", \"CompetitionDistance\": 1040.0, \"CompetitionOpenSinceMonth\": NaN, \"CompetitionOpenSinceYear\": NaN, \"Promo2\": 1, \"Promo2SinceWeek\": 22.0, \"Promo2SinceYear\": 2012.0, \"PromoInterval\": \"Jan,Apr,Jul,Oct\"}, {\"Store\": 22, \"DayOfWeek\": 2, \"Date\": \"2015-09-15\", \"Open\": 1.0, \"Promo\": 1, \"StateHoliday\": \"0\", \"SchoolHoliday\": 0, \"StoreType\": \"a\", \"Assortment\": \"a\", \"CompetitionDistance\": 1040.0, \"CompetitionOpenSinceMonth\": NaN, \"CompetitionOpenSinceYear\": NaN, \"Promo2\": 1, \"Promo2SinceWeek\": 22.0, \"Promo2SinceYear\": 2012.0, \"PromoInterval\": \"Jan,Apr,Jul,Oct\"}, {\"Store\": 22, \"DayOfWeek\": 1, \"Date\": \"2015-09-14\", \"Open\": 1.0, \"Promo\": 1, \"StateHoliday\": \"0\", \"SchoolHoliday\": 1, \"StoreType\": \"a\", \"Assortment\": \"a\", \"CompetitionDistance\": 1040.0, \"CompetitionOpenSinceMonth\": NaN, \"CompetitionOpenSinceYear\": NaN, \"Promo2\": 1, \"Promo2SinceWeek\": 22.0, \"Promo2SinceYear\": 2012.0, \"PromoInterval\": \"Jan,Apr,Jul,Oct\"}, {\"Store\": 22, \"DayOfWeek\": 6, \"Date\": \"2015-09-12\", \"Open\": 1.0, \"Promo\": 0, \"StateHoliday\": \"0\", \"SchoolHoliday\": 0, \"StoreType\": \"a\", \"Assortment\": \"a\", \"CompetitionDistance\": 1040.0, \"CompetitionOpenSinceMonth\": NaN, \"CompetitionOpenSinceYear\": NaN, \"Promo2\": 1, \"Promo2SinceWeek\": 22.0, \"Promo2SinceYear\": 2012.0, \"PromoInterval\": \"Jan,Apr,Jul,Oct\"}, {\"Store\": 22, \"DayOfWeek\": 5, \"Date\": \"2015-09-11\", \"Open\": 1.0, \"Promo\": 0, \"StateHoliday\": \"0\", \"SchoolHoliday\": 1, \"StoreType\": \"a\", \"Assortment\": \"a\", \"CompetitionDistance\": 1040.0, \"CompetitionOpenSinceMonth\": NaN, \"CompetitionOpenSinceYear\": NaN, \"Promo2\": 1, \"Promo2SinceWeek\": 22.0, \"Promo2SinceYear\": 2012.0, \"PromoInterval\": \"Jan,Apr,Jul,Oct\"}, {\"Store\": 22, \"DayOfWeek\": 4, \"Date\": \"2015-09-10\", \"Open\": 1.0, \"Promo\": 0, \"StateHoliday\": \"0\", \"SchoolHoliday\": 1, \"StoreType\": \"a\", \"Assortment\": \"a\", \"CompetitionDistance\": 1040.0, \"CompetitionOpenSinceMonth\": NaN, \"CompetitionOpenSinceYear\": NaN, \"Promo2\": 1, \"Promo2SinceWeek\": 22.0, \"Promo2SinceYear\": 2012.0, \"PromoInterval\": \"Jan,Apr,Jul,Oct\"}, {\"Store\": 22, \"DayOfWeek\": 3, \"Date\": \"2015-09-09\", \"Open\": 1.0, \"Promo\": 0, \"StateHoliday\": \"0\", \"SchoolHoliday\": 1, \"StoreType\": \"a\", \"Assortment\": \"a\", \"CompetitionDistance\": 1040.0, \"CompetitionOpenSinceMonth\": NaN, \"CompetitionOpenSinceYear\": NaN, \"Promo2\": 1, \"Promo2SinceWeek\": 22.0, \"Promo2SinceYear\": 2012.0, \"PromoInterval\": \"Jan,Apr,Jul,Oct\"}, {\"Store\": 22, \"DayOfWeek\": 2, \"Date\": \"2015-09-08\", \"Open\": 1.0, \"Promo\": 0, \"StateHoliday\": \"0\", \"SchoolHoliday\": 1, \"StoreType\": \"a\", \"Assortment\": \"a\", \"CompetitionDistance\": 1040.0, \"CompetitionOpenSinceMonth\": NaN, \"CompetitionOpenSinceYear\": NaN, \"Promo2\": 1, \"Promo2SinceWeek\": 22.0, \"Promo2SinceYear\": 2012.0, \"PromoInterval\": \"Jan,Apr,Jul,Oct\"}, {\"Store\": 22, \"DayOfWeek\": 1, \"Date\": \"2015-09-07\", \"Open\": 1.0, \"Promo\": 0, \"StateHoliday\": \"0\", \"SchoolHoliday\": 1, \"StoreType\": \"a\", \"Assortment\": \"a\", \"CompetitionDistance\": 1040.0, \"CompetitionOpenSinceMonth\": NaN, \"CompetitionOpenSinceYear\": NaN, \"Promo2\": 1, \"Promo2SinceWeek\": 22.0, \"Promo2SinceYear\": 2012.0, \"PromoInterval\": \"Jan,Apr,Jul,Oct\"}, {\"Store\": 22, \"DayOfWeek\": 6, \"Date\": \"2015-09-05\", \"Open\": 1.0, \"Promo\": 0, \"StateHoliday\": \"0\", \"SchoolHoliday\": 0, \"StoreType\": \"a\", \"Assortment\": \"a\", \"CompetitionDistance\": 1040.0, \"CompetitionOpenSinceMonth\": NaN, \"CompetitionOpenSinceYear\": NaN, \"Promo2\": 1, \"Promo2SinceWeek\": 22.0, \"Promo2SinceYear\": 2012.0, \"PromoInterval\": \"Jan,Apr,Jul,Oct\"}, {\"Store\": 22, \"DayOfWeek\": 5, \"Date\": \"2015-09-04\", \"Open\": 1.0, \"Promo\": 1, \"StateHoliday\": \"0\", \"SchoolHoliday\": 1, \"StoreType\": \"a\", \"Assortment\": \"a\", \"CompetitionDistance\": 1040.0, \"CompetitionOpenSinceMonth\": NaN, \"CompetitionOpenSinceYear\": NaN, \"Promo2\": 1, \"Promo2SinceWeek\": 22.0, \"Promo2SinceYear\": 2012.0, \"PromoInterval\": \"Jan,Apr,Jul,Oct\"}, {\"Store\": 22, \"DayOfWeek\": 4, \"Date\": \"2015-09-03\", \"Open\": 1.0, \"Promo\": 1, \"StateHoliday\": \"0\", \"SchoolHoliday\": 1, \"StoreType\": \"a\", \"Assortment\": \"a\", \"CompetitionDistance\": 1040.0, \"CompetitionOpenSinceMonth\": NaN, \"CompetitionOpenSinceYear\": NaN, \"Promo2\": 1, \"Promo2SinceWeek\": 22.0, \"Promo2SinceYear\": 2012.0, \"PromoInterval\": \"Jan,Apr,Jul,Oct\"}, {\"Store\": 22, \"DayOfWeek\": 3, \"Date\": \"2015-09-02\", \"Open\": 1.0, \"Promo\": 1, \"StateHoliday\": \"0\", \"SchoolHoliday\": 1, \"StoreType\": \"a\", \"Assortment\": \"a\", \"CompetitionDistance\": 1040.0, \"CompetitionOpenSinceMonth\": NaN, \"CompetitionOpenSinceYear\": NaN, \"Promo2\": 1, \"Promo2SinceWeek\": 22.0, \"Promo2SinceYear\": 2012.0, \"PromoInterval\": \"Jan,Apr,Jul,Oct\"}, {\"Store\": 22, \"DayOfWeek\": 2, \"Date\": \"2015-09-01\", \"Open\": 1.0, \"Promo\": 1, \"StateHoliday\": \"0\", \"SchoolHoliday\": 1, \"StoreType\": \"a\", \"Assortment\": \"a\", \"CompetitionDistance\": 1040.0, \"CompetitionOpenSinceMonth\": NaN, \"CompetitionOpenSinceYear\": NaN, \"Promo2\": 1, \"Promo2SinceWeek\": 22.0, \"Promo2SinceYear\": 2012.0, \"PromoInterval\": \"Jan,Apr,Jul,Oct\"}, {\"Store\": 22, \"DayOfWeek\": 1, \"Date\": \"2015-08-31\", \"Open\": 1.0, \"Promo\": 1, \"StateHoliday\": \"0\", \"SchoolHoliday\": 1, \"StoreType\": \"a\", \"Assortment\": \"a\", \"CompetitionDistance\": 1040.0, \"CompetitionOpenSinceMonth\": NaN, \"CompetitionOpenSinceYear\": NaN, \"Promo2\": 1, \"Promo2SinceWeek\": 22.0, \"Promo2SinceYear\": 2012.0, \"PromoInterval\": \"Jan,Apr,Jul,Oct\"}, {\"Store\": 22, \"DayOfWeek\": 6, \"Date\": \"2015-08-29\", \"Open\": 1.0, \"Promo\": 0, \"StateHoliday\": \"0\", \"SchoolHoliday\": 0, \"StoreType\": \"a\", \"Assortment\": \"a\", \"CompetitionDistance\": 1040.0, \"CompetitionOpenSinceMonth\": NaN, \"CompetitionOpenSinceYear\": NaN, \"Promo2\": 1, \"Promo2SinceWeek\": 22.0, \"Promo2SinceYear\": 2012.0, \"PromoInterval\": \"Jan,Apr,Jul,Oct\"}, {\"Store\": 22, \"DayOfWeek\": 5, \"Date\": \"2015-08-28\", \"Open\": 1.0, \"Promo\": 0, \"StateHoliday\": \"0\", \"SchoolHoliday\": 1, \"StoreType\": \"a\", \"Assortment\": \"a\", \"CompetitionDistance\": 1040.0, \"CompetitionOpenSinceMonth\": NaN, \"CompetitionOpenSinceYear\": NaN, \"Promo2\": 1, \"Promo2SinceWeek\": 22.0, \"Promo2SinceYear\": 2012.0, \"PromoInterval\": \"Jan,Apr,Jul,Oct\"}, {\"Store\": 22, \"DayOfWeek\": 4, \"Date\": \"2015-08-27\", \"Open\": 1.0, \"Promo\": 0, \"StateHoliday\": \"0\", \"SchoolHoliday\": 1, \"StoreType\": \"a\", \"Assortment\": \"a\", \"CompetitionDistance\": 1040.0, \"CompetitionOpenSinceMonth\": NaN, \"CompetitionOpenSinceYear\": NaN, \"Promo2\": 1, \"Promo2SinceWeek\": 22.0, \"Promo2SinceYear\": 2012.0, \"PromoInterval\": \"Jan,Apr,Jul,Oct\"}, {\"Store\": 22, \"DayOfWeek\": 3, \"Date\": \"2015-08-26\", \"Open\": 1.0, \"Promo\": 0, \"StateHoliday\": \"0\", \"SchoolHoliday\": 1, \"StoreType\": \"a\", \"Assortment\": \"a\", \"CompetitionDistance\": 1040.0, \"CompetitionOpenSinceMonth\": NaN, \"CompetitionOpenSinceYear\": NaN, \"Promo2\": 1, \"Promo2SinceWeek\": 22.0, \"Promo2SinceYear\": 2012.0, \"PromoInterval\": \"Jan,Apr,Jul,Oct\"}, {\"Store\": 22, \"DayOfWeek\": 2, \"Date\": \"2015-08-25\", \"Open\": 1.0, \"Promo\": 0, \"StateHoliday\": \"0\", \"SchoolHoliday\": 1, \"StoreType\": \"a\", \"Assortment\": \"a\", \"CompetitionDistance\": 1040.0, \"CompetitionOpenSinceMonth\": NaN, \"CompetitionOpenSinceYear\": NaN, \"Promo2\": 1, \"Promo2SinceWeek\": 22.0, \"Promo2SinceYear\": 2012.0, \"PromoInterval\": \"Jan,Apr,Jul,Oct\"}, {\"Store\": 22, \"DayOfWeek\": 1, \"Date\": \"2015-08-24\", \"Open\": 1.0, \"Promo\": 0, \"StateHoliday\": \"0\", \"SchoolHoliday\": 1, \"StoreType\": \"a\", \"Assortment\": \"a\", \"CompetitionDistance\": 1040.0, \"CompetitionOpenSinceMonth\": NaN, \"CompetitionOpenSinceYear\": NaN, \"Promo2\": 1, \"Promo2SinceWeek\": 22.0, \"Promo2SinceYear\": 2012.0, \"PromoInterval\": \"Jan,Apr,Jul,Oct\"}, {\"Store\": 22, \"DayOfWeek\": 6, \"Date\": \"2015-08-22\", \"Open\": 1.0, \"Promo\": 0, \"StateHoliday\": \"0\", \"SchoolHoliday\": 0, \"StoreType\": \"a\", \"Assortment\": \"a\", \"CompetitionDistance\": 1040.0, \"CompetitionOpenSinceMonth\": NaN, \"CompetitionOpenSinceYear\": NaN, \"Promo2\": 1, \"Promo2SinceWeek\": 22.0, \"Promo2SinceYear\": 2012.0, \"PromoInterval\": \"Jan,Apr,Jul,Oct\"}, {\"Store\": 22, \"DayOfWeek\": 5, \"Date\": \"2015-08-21\", \"Open\": 1.0, \"Promo\": 1, \"StateHoliday\": \"0\", \"SchoolHoliday\": 1, \"StoreType\": \"a\", \"Assortment\": \"a\", \"CompetitionDistance\": 1040.0, \"CompetitionOpenSinceMonth\": NaN, \"CompetitionOpenSinceYear\": NaN, \"Promo2\": 1, \"Promo2SinceWeek\": 22.0, \"Promo2SinceYear\": 2012.0, \"PromoInterval\": \"Jan,Apr,Jul,Oct\"}, {\"Store\": 22, \"DayOfWeek\": 4, \"Date\": \"2015-08-20\", \"Open\": 1.0, \"Promo\": 1, \"StateHoliday\": \"0\", \"SchoolHoliday\": 1, \"StoreType\": \"a\", \"Assortment\": \"a\", \"CompetitionDistance\": 1040.0, \"CompetitionOpenSinceMonth\": NaN, \"CompetitionOpenSinceYear\": NaN, \"Promo2\": 1, \"Promo2SinceWeek\": 22.0, \"Promo2SinceYear\": 2012.0, \"PromoInterval\": \"Jan,Apr,Jul,Oct\"}, {\"Store\": 22, \"DayOfWeek\": 3, \"Date\": \"2015-08-19\", \"Open\": 1.0, \"Promo\": 1, \"StateHoliday\": \"0\", \"SchoolHoliday\": 1, \"StoreType\": \"a\", \"Assortment\": \"a\", \"CompetitionDistance\": 1040.0, \"CompetitionOpenSinceMonth\": NaN, \"CompetitionOpenSinceYear\": NaN, \"Promo2\": 1, \"Promo2SinceWeek\": 22.0, \"Promo2SinceYear\": 2012.0, \"PromoInterval\": \"Jan,Apr,Jul,Oct\"}, {\"Store\": 22, \"DayOfWeek\": 2, \"Date\": \"2015-08-18\", \"Open\": 1.0, \"Promo\": 1, \"StateHoliday\": \"0\", \"SchoolHoliday\": 1, \"StoreType\": \"a\", \"Assortment\": \"a\", \"CompetitionDistance\": 1040.0, \"CompetitionOpenSinceMonth\": NaN, \"CompetitionOpenSinceYear\": NaN, \"Promo2\": 1, \"Promo2SinceWeek\": 22.0, \"Promo2SinceYear\": 2012.0, \"PromoInterval\": \"Jan,Apr,Jul,Oct\"}, {\"Store\": 22, \"DayOfWeek\": 1, \"Date\": \"2015-08-17\", \"Open\": 1.0, \"Promo\": 1, \"StateHoliday\": \"0\", \"SchoolHoliday\": 1, \"StoreType\": \"a\", \"Assortment\": \"a\", \"CompetitionDistance\": 1040.0, \"CompetitionOpenSinceMonth\": NaN, \"CompetitionOpenSinceYear\": NaN, \"Promo2\": 1, \"Promo2SinceWeek\": 22.0, \"Promo2SinceYear\": 2012.0, \"PromoInterval\": \"Jan,Apr,Jul,Oct\"}, {\"Store\": 22, \"DayOfWeek\": 5, \"Date\": \"2015-08-14\", \"Open\": 1.0, \"Promo\": 0, \"StateHoliday\": \"0\", \"SchoolHoliday\": 1, \"StoreType\": \"a\", \"Assortment\": \"a\", \"CompetitionDistance\": 1040.0, \"CompetitionOpenSinceMonth\": NaN, \"CompetitionOpenSinceYear\": NaN, \"Promo2\": 1, \"Promo2SinceWeek\": 22.0, \"Promo2SinceYear\": 2012.0, \"PromoInterval\": \"Jan,Apr,Jul,Oct\"}, {\"Store\": 22, \"DayOfWeek\": 4, \"Date\": \"2015-08-13\", \"Open\": 1.0, \"Promo\": 0, \"StateHoliday\": \"0\", \"SchoolHoliday\": 1, \"StoreType\": \"a\", \"Assortment\": \"a\", \"CompetitionDistance\": 1040.0, \"CompetitionOpenSinceMonth\": NaN, \"CompetitionOpenSinceYear\": NaN, \"Promo2\": 1, \"Promo2SinceWeek\": 22.0, \"Promo2SinceYear\": 2012.0, \"PromoInterval\": \"Jan,Apr,Jul,Oct\"}, {\"Store\": 22, \"DayOfWeek\": 3, \"Date\": \"2015-08-12\", \"Open\": 1.0, \"Promo\": 0, \"StateHoliday\": \"0\", \"SchoolHoliday\": 1, \"StoreType\": \"a\", \"Assortment\": \"a\", \"CompetitionDistance\": 1040.0, \"CompetitionOpenSinceMonth\": NaN, \"CompetitionOpenSinceYear\": NaN, \"Promo2\": 1, \"Promo2SinceWeek\": 22.0, \"Promo2SinceYear\": 2012.0, \"PromoInterval\": \"Jan,Apr,Jul,Oct\"}, {\"Store\": 22, \"DayOfWeek\": 2, \"Date\": \"2015-08-11\", \"Open\": 1.0, \"Promo\": 0, \"StateHoliday\": \"0\", \"SchoolHoliday\": 1, \"StoreType\": \"a\", \"Assortment\": \"a\", \"CompetitionDistance\": 1040.0, \"CompetitionOpenSinceMonth\": NaN, \"CompetitionOpenSinceYear\": NaN, \"Promo2\": 1, \"Promo2SinceWeek\": 22.0, \"Promo2SinceYear\": 2012.0, \"PromoInterval\": \"Jan,Apr,Jul,Oct\"}, {\"Store\": 22, \"DayOfWeek\": 1, \"Date\": \"2015-08-10\", \"Open\": 1.0, \"Promo\": 0, \"StateHoliday\": \"0\", \"SchoolHoliday\": 1, \"StoreType\": \"a\", \"Assortment\": \"a\", \"CompetitionDistance\": 1040.0, \"CompetitionOpenSinceMonth\": NaN, \"CompetitionOpenSinceYear\": NaN, \"Promo2\": 1, \"Promo2SinceWeek\": 22.0, \"Promo2SinceYear\": 2012.0, \"PromoInterval\": \"Jan,Apr,Jul,Oct\"}, {\"Store\": 22, \"DayOfWeek\": 6, \"Date\": \"2015-08-08\", \"Open\": 1.0, \"Promo\": 0, \"StateHoliday\": \"0\", \"SchoolHoliday\": 0, \"StoreType\": \"a\", \"Assortment\": \"a\", \"CompetitionDistance\": 1040.0, \"CompetitionOpenSinceMonth\": NaN, \"CompetitionOpenSinceYear\": NaN, \"Promo2\": 1, \"Promo2SinceWeek\": 22.0, \"Promo2SinceYear\": 2012.0, \"PromoInterval\": \"Jan,Apr,Jul,Oct\"}, {\"Store\": 22, \"DayOfWeek\": 5, \"Date\": \"2015-08-07\", \"Open\": 1.0, \"Promo\": 1, \"StateHoliday\": \"0\", \"SchoolHoliday\": 1, \"StoreType\": \"a\", \"Assortment\": \"a\", \"CompetitionDistance\": 1040.0, \"CompetitionOpenSinceMonth\": NaN, \"CompetitionOpenSinceYear\": NaN, \"Promo2\": 1, \"Promo2SinceWeek\": 22.0, \"Promo2SinceYear\": 2012.0, \"PromoInterval\": \"Jan,Apr,Jul,Oct\"}, {\"Store\": 22, \"DayOfWeek\": 4, \"Date\": \"2015-08-06\", \"Open\": 1.0, \"Promo\": 1, \"StateHoliday\": \"0\", \"SchoolHoliday\": 1, \"StoreType\": \"a\", \"Assortment\": \"a\", \"CompetitionDistance\": 1040.0, \"CompetitionOpenSinceMonth\": NaN, \"CompetitionOpenSinceYear\": NaN, \"Promo2\": 1, \"Promo2SinceWeek\": 22.0, \"Promo2SinceYear\": 2012.0, \"PromoInterval\": \"Jan,Apr,Jul,Oct\"}, {\"Store\": 22, \"DayOfWeek\": 3, \"Date\": \"2015-08-05\", \"Open\": 1.0, \"Promo\": 1, \"StateHoliday\": \"0\", \"SchoolHoliday\": 1, \"StoreType\": \"a\", \"Assortment\": \"a\", \"CompetitionDistance\": 1040.0, \"CompetitionOpenSinceMonth\": NaN, \"CompetitionOpenSinceYear\": NaN, \"Promo2\": 1, \"Promo2SinceWeek\": 22.0, \"Promo2SinceYear\": 2012.0, \"PromoInterval\": \"Jan,Apr,Jul,Oct\"}, {\"Store\": 22, \"DayOfWeek\": 2, \"Date\": \"2015-08-04\", \"Open\": 1.0, \"Promo\": 1, \"StateHoliday\": \"0\", \"SchoolHoliday\": 1, \"StoreType\": \"a\", \"Assortment\": \"a\", \"CompetitionDistance\": 1040.0, \"CompetitionOpenSinceMonth\": NaN, \"CompetitionOpenSinceYear\": NaN, \"Promo2\": 1, \"Promo2SinceWeek\": 22.0, \"Promo2SinceYear\": 2012.0, \"PromoInterval\": \"Jan,Apr,Jul,Oct\"}, {\"Store\": 22, \"DayOfWeek\": 1, \"Date\": \"2015-08-03\", \"Open\": 1.0, \"Promo\": 1, \"StateHoliday\": \"0\", \"SchoolHoliday\": 1, \"StoreType\": \"a\", \"Assortment\": \"a\", \"CompetitionDistance\": 1040.0, \"CompetitionOpenSinceMonth\": NaN, \"CompetitionOpenSinceYear\": NaN, \"Promo2\": 1, \"Promo2SinceWeek\": 22.0, \"Promo2SinceYear\": 2012.0, \"PromoInterval\": \"Jan,Apr,Jul,Oct\"}, {\"Store\": 22, \"DayOfWeek\": 6, \"Date\": \"2015-08-01\", \"Open\": 1.0, \"Promo\": 0, \"StateHoliday\": \"0\", \"SchoolHoliday\": 0, \"StoreType\": \"a\", \"Assortment\": \"a\", \"CompetitionDistance\": 1040.0, \"CompetitionOpenSinceMonth\": NaN, \"CompetitionOpenSinceYear\": NaN, \"Promo2\": 1, \"Promo2SinceWeek\": 22.0, \"Promo2SinceYear\": 2012.0, \"PromoInterval\": \"Jan,Apr,Jul,Oct\"}]'"
      ]
     },
     "execution_count": 43,
     "metadata": {},
     "output_type": "execute_result"
    }
   ],
   "source": [
    "data"
   ]
  },
  {
   "cell_type": "code",
   "execution_count": null,
   "id": "7b1bd6ed",
   "metadata": {},
   "outputs": [],
   "source": []
  }
 ],
 "metadata": {
  "kernelspec": {
   "display_name": "Python 3 (ipykernel)",
   "language": "python",
   "name": "python3"
  },
  "language_info": {
   "codemirror_mode": {
    "name": "ipython",
    "version": 3
   },
   "file_extension": ".py",
   "mimetype": "text/x-python",
   "name": "python",
   "nbconvert_exporter": "python",
   "pygments_lexer": "ipython3",
   "version": "3.11.2"
  },
  "varInspector": {
   "cols": {
    "lenName": 16,
    "lenType": 16,
    "lenVar": 40
   },
   "kernels_config": {
    "python": {
     "delete_cmd_postfix": "",
     "delete_cmd_prefix": "del ",
     "library": "var_list.py",
     "varRefreshCmd": "print(var_dic_list())"
    },
    "r": {
     "delete_cmd_postfix": ") ",
     "delete_cmd_prefix": "rm(",
     "library": "var_list.r",
     "varRefreshCmd": "cat(var_dic_list()) "
    }
   },
   "types_to_exclude": [
    "module",
    "function",
    "builtin_function_or_method",
    "instance",
    "_Feature"
   ],
   "window_display": false
  }
 },
 "nbformat": 4,
 "nbformat_minor": 5
}
